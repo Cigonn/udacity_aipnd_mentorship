{
 "cells": [
  {
   "cell_type": "markdown",
   "metadata": {},
   "source": [
    "# Scripting and OOP"
   ]
  },
  {
   "cell_type": "markdown",
   "metadata": {},
   "source": [
    "## Scripting"
   ]
  },
  {
   "cell_type": "markdown",
   "metadata": {},
   "source": [
    "### Using string"
   ]
  },
  {
   "cell_type": "code",
   "execution_count": 181,
   "metadata": {
    "collapsed": false
   },
   "outputs": [
    {
     "name": "stdout",
     "output_type": "stream",
     "text": [
      "Enter a name: \n",
      "eric\n",
      "Hello Eric !\n"
     ]
    }
   ],
   "source": [
    "name = input('Enter a name: \\n')\n",
    "print('Hello', name.title(),'!')"
   ]
  },
  {
   "cell_type": "code",
   "execution_count": 182,
   "metadata": {
    "collapsed": false
   },
   "outputs": [
    {
     "name": "stdout",
     "output_type": "stream",
     "text": [
      "Enter a name: \n",
      "eric\n",
      "Hello Eric!\n"
     ]
    }
   ],
   "source": [
    "name = input('Enter a name: \\n')\n",
    "print('Hello {}!'.format(name.title()))"
   ]
  },
  {
   "cell_type": "code",
   "execution_count": 183,
   "metadata": {
    "collapsed": false
   },
   "outputs": [
    {
     "name": "stdout",
     "output_type": "stream",
     "text": [
      "Enter a name: \n",
      "eric\n",
      "Hello Eric!\n"
     ]
    }
   ],
   "source": [
    "name = input('Enter a name: \\n')\n",
    "print(f'Hello {name.title()}!')"
   ]
  },
  {
   "cell_type": "code",
   "execution_count": 184,
   "metadata": {
    "collapsed": false
   },
   "outputs": [
    {
     "name": "stdout",
     "output_type": "stream",
     "text": [
      "Enter a name: \n",
      "eric\n",
      "Hello Eric!\n"
     ]
    }
   ],
   "source": [
    "name = input('Enter a name: \\n')\n",
    "print('Hello ' + name.title() + '!')"
   ]
  },
  {
   "cell_type": "markdown",
   "metadata": {},
   "source": [
    "### Numbers"
   ]
  },
  {
   "cell_type": "code",
   "execution_count": 185,
   "metadata": {
    "collapsed": false
   },
   "outputs": [
    {
     "name": "stdout",
     "output_type": "stream",
     "text": [
      "Enter a number: \n",
      "12\n",
      "The number you entered is 12\n"
     ]
    }
   ],
   "source": [
    "num = input('Enter a number: \\n')\n",
    "print(f'The number you entered is {num}')"
   ]
  },
  {
   "cell_type": "code",
   "execution_count": 186,
   "metadata": {
    "collapsed": false
   },
   "outputs": [
    {
     "name": "stdout",
     "output_type": "stream",
     "text": [
      "Enter a number: \n",
      "12\n",
      "The square of that number is: 24\n"
     ]
    }
   ],
   "source": [
    "num = input('Enter a number: \\n')\n",
    "print(f'The square of that number is: {12*2}')"
   ]
  },
  {
   "cell_type": "code",
   "execution_count": 187,
   "metadata": {
    "collapsed": false
   },
   "outputs": [
    {
     "name": "stdout",
     "output_type": "stream",
     "text": [
      "Enter a number: \n",
      "23\n"
     ]
    },
    {
     "ename": "TypeError",
     "evalue": "must be str, not int",
     "output_type": "error",
     "traceback": [
      "\u001b[0;31m---------------------------------------------------------------------------\u001b[0m",
      "\u001b[0;31mTypeError\u001b[0m                                 Traceback (most recent call last)",
      "\u001b[0;32m<ipython-input-187-aedbf73645b6>\u001b[0m in \u001b[0;36m<module>\u001b[0;34m()\u001b[0m\n\u001b[1;32m      1\u001b[0m \u001b[0mnum\u001b[0m \u001b[0;34m=\u001b[0m \u001b[0minput\u001b[0m\u001b[0;34m(\u001b[0m\u001b[0;34m'Enter a number: \\n'\u001b[0m\u001b[0;34m)\u001b[0m\u001b[0;34m\u001b[0m\u001b[0m\n\u001b[0;32m----> 2\u001b[0;31m \u001b[0mnum\u001b[0m \u001b[0;34m+=\u001b[0m \u001b[0;36m23\u001b[0m\u001b[0;34m\u001b[0m\u001b[0m\n\u001b[0m\u001b[1;32m      3\u001b[0m \u001b[0mprint\u001b[0m\u001b[0;34m(\u001b[0m\u001b[0;34mf'The square of that number is: {num}'\u001b[0m\u001b[0;34m)\u001b[0m\u001b[0;34m\u001b[0m\u001b[0m\n",
      "\u001b[0;31mTypeError\u001b[0m: must be str, not int"
     ]
    }
   ],
   "source": [
    "num = input('Enter a number: \\n')\n",
    "num += 23\n",
    "print(f'The square of that number is: {num}')"
   ]
  },
  {
   "cell_type": "code",
   "execution_count": 188,
   "metadata": {
    "collapsed": false
   },
   "outputs": [
    {
     "name": "stdout",
     "output_type": "stream",
     "text": [
      "enter a number12\n",
      "The number added 12 is 24\n"
     ]
    }
   ],
   "source": [
    "num = int(input(\"enter a number\"))\n",
    "num += 12\n",
    "print(f'The number added 12 is {num}')"
   ]
  },
  {
   "cell_type": "markdown",
   "metadata": {},
   "source": [
    "### Using eval"
   ]
  },
  {
   "cell_type": "code",
   "execution_count": 189,
   "metadata": {
    "collapsed": false
   },
   "outputs": [
    {
     "name": "stdout",
     "output_type": "stream",
     "text": [
      "Enter a number \n",
      "12\n",
      "12\n"
     ]
    }
   ],
   "source": [
    "result = eval(input(\"Enter a number \\n\"))\n",
    "print(result)"
   ]
  },
  {
   "cell_type": "code",
   "execution_count": 190,
   "metadata": {
    "collapsed": false
   },
   "outputs": [
    {
     "name": "stdout",
     "output_type": "stream",
     "text": [
      "Enter a number12\n",
      "35\n"
     ]
    }
   ],
   "source": [
    "result = eval(input(\"Enter a number\"))\n",
    "result += 23\n",
    "print(result)"
   ]
  },
  {
   "cell_type": "code",
   "execution_count": 191,
   "metadata": {
    "collapsed": false
   },
   "outputs": [
    {
     "name": "stdout",
     "output_type": "stream",
     "text": [
      "Enter an expression12\n",
      "here is my expression 12\n"
     ]
    }
   ],
   "source": [
    "mul = eval(input(\"Enter an expression\"))\n",
    "print(f'here is my expression {mul}')"
   ]
  },
  {
   "cell_type": "markdown",
   "metadata": {},
   "source": [
    "###  Error handling"
   ]
  },
  {
   "cell_type": "markdown",
   "metadata": {},
   "source": [
    "#### Syntax error"
   ]
  },
  {
   "cell_type": "code",
   "execution_count": 192,
   "metadata": {
    "collapsed": false
   },
   "outputs": [
    {
     "ename": "SyntaxError",
     "evalue": "EOL while scanning string literal (<ipython-input-192-59e05641398f>, line 1)",
     "output_type": "error",
     "traceback": [
      "\u001b[0;36m  File \u001b[0;32m\"<ipython-input-192-59e05641398f>\"\u001b[0;36m, line \u001b[0;32m1\u001b[0m\n\u001b[0;31m    msg = 'helo world\u001b[0m\n\u001b[0m                     ^\u001b[0m\n\u001b[0;31mSyntaxError\u001b[0m\u001b[0;31m:\u001b[0m EOL while scanning string literal\n"
     ]
    }
   ],
   "source": [
    "msg = 'helo world\n",
    "print(msg)"
   ]
  },
  {
   "cell_type": "markdown",
   "metadata": {},
   "source": [
    "### Exceptions"
   ]
  },
  {
   "cell_type": "markdown",
   "metadata": {},
   "source": [
    "<img src='images/exception.png'>"
   ]
  },
  {
   "cell_type": "code",
   "execution_count": 195,
   "metadata": {
    "collapsed": false
   },
   "outputs": [
    {
     "name": "stdout",
     "output_type": "stream",
     "text": [
      "Enter a number12\n"
     ]
    },
    {
     "ename": "TypeError",
     "evalue": "must be str, not int",
     "output_type": "error",
     "traceback": [
      "\u001b[0;31m---------------------------------------------------------------------------\u001b[0m",
      "\u001b[0;31mTypeError\u001b[0m                                 Traceback (most recent call last)",
      "\u001b[0;32m<ipython-input-195-46b3b6391c88>\u001b[0m in \u001b[0;36m<module>\u001b[0;34m()\u001b[0m\n\u001b[1;32m      1\u001b[0m \u001b[0mx\u001b[0m \u001b[0;34m=\u001b[0m \u001b[0minput\u001b[0m\u001b[0;34m(\u001b[0m\u001b[0;34m'Enter a number'\u001b[0m\u001b[0;34m)\u001b[0m\u001b[0;34m\u001b[0m\u001b[0m\n\u001b[0;32m----> 2\u001b[0;31m \u001b[0mx\u001b[0m \u001b[0;34m+=\u001b[0m \u001b[0;36m20\u001b[0m\u001b[0;34m\u001b[0m\u001b[0m\n\u001b[0m\u001b[1;32m      3\u001b[0m \u001b[0mprint\u001b[0m\u001b[0;34m(\u001b[0m\u001b[0mx\u001b[0m\u001b[0;34m)\u001b[0m\u001b[0;34m\u001b[0m\u001b[0m\n",
      "\u001b[0;31mTypeError\u001b[0m: must be str, not int"
     ]
    }
   ],
   "source": [
    "x = input('Enter a number')\n",
    "x += 20\n",
    "print(x)"
   ]
  },
  {
   "cell_type": "code",
   "execution_count": 197,
   "metadata": {
    "collapsed": false
   },
   "outputs": [
    {
     "name": "stdout",
     "output_type": "stream",
     "text": [
      "Enter a numberhello\n"
     ]
    },
    {
     "ename": "ValueError",
     "evalue": "invalid literal for int() with base 10: 'hello'",
     "output_type": "error",
     "traceback": [
      "\u001b[0;31m---------------------------------------------------------------------------\u001b[0m",
      "\u001b[0;31mValueError\u001b[0m                                Traceback (most recent call last)",
      "\u001b[0;32m<ipython-input-197-0d13cf97a141>\u001b[0m in \u001b[0;36m<module>\u001b[0;34m()\u001b[0m\n\u001b[0;32m----> 1\u001b[0;31m \u001b[0mx\u001b[0m \u001b[0;34m=\u001b[0m \u001b[0mint\u001b[0m\u001b[0;34m(\u001b[0m\u001b[0minput\u001b[0m\u001b[0;34m(\u001b[0m\u001b[0;34m'Enter a number'\u001b[0m\u001b[0;34m)\u001b[0m\u001b[0;34m)\u001b[0m\u001b[0;34m\u001b[0m\u001b[0m\n\u001b[0m\u001b[1;32m      2\u001b[0m \u001b[0mx\u001b[0m \u001b[0;34m+=\u001b[0m \u001b[0;36m20\u001b[0m\u001b[0;34m\u001b[0m\u001b[0m\n\u001b[1;32m      3\u001b[0m \u001b[0mprint\u001b[0m\u001b[0;34m(\u001b[0m\u001b[0mx\u001b[0m\u001b[0;34m)\u001b[0m\u001b[0;34m\u001b[0m\u001b[0m\n",
      "\u001b[0;31mValueError\u001b[0m: invalid literal for int() with base 10: 'hello'"
     ]
    }
   ],
   "source": [
    "x = int(input('Enter a number'))\n",
    "x += 20\n",
    "print(x)"
   ]
  },
  {
   "cell_type": "code",
   "execution_count": 198,
   "metadata": {
    "collapsed": false
   },
   "outputs": [
    {
     "ename": "NameError",
     "evalue": "name 'my_variable' is not defined",
     "output_type": "error",
     "traceback": [
      "\u001b[0;31m---------------------------------------------------------------------------\u001b[0m",
      "\u001b[0;31mNameError\u001b[0m                                 Traceback (most recent call last)",
      "\u001b[0;32m<ipython-input-198-a9a44a3265c0>\u001b[0m in \u001b[0;36m<module>\u001b[0;34m()\u001b[0m\n\u001b[0;32m----> 1\u001b[0;31m \u001b[0mprint\u001b[0m\u001b[0;34m(\u001b[0m\u001b[0mmy_variable\u001b[0m\u001b[0;34m)\u001b[0m\u001b[0;34m\u001b[0m\u001b[0m\n\u001b[0m",
      "\u001b[0;31mNameError\u001b[0m: name 'my_variable' is not defined"
     ]
    }
   ],
   "source": [
    "print(my_variable)"
   ]
  },
  {
   "cell_type": "markdown",
   "metadata": {},
   "source": [
    "### Handling errors"
   ]
  },
  {
   "cell_type": "code",
   "execution_count": 199,
   "metadata": {
    "collapsed": false
   },
   "outputs": [
    {
     "name": "stdout",
     "output_type": "stream",
     "text": [
      "Enter a number \n",
      "hello\n",
      "That's not a valid number\n"
     ]
    }
   ],
   "source": [
    "try:\n",
    "    num_1 = int(input(\"Enter a number \\n\"))\n",
    "    num_1 += 20\n",
    "    print(num_1)\n",
    "except:\n",
    "    print(f'That\\'s not a valid number')"
   ]
  },
  {
   "cell_type": "code",
   "execution_count": 201,
   "metadata": {
    "collapsed": false
   },
   "outputs": [
    {
     "name": "stdout",
     "output_type": "stream",
     "text": [
      "Enter a number \n",
      "12\n",
      "32\n"
     ]
    }
   ],
   "source": [
    "try:\n",
    "    num_1 = int(input(\"Enter a number \\n\"))\n",
    "    num_1 += 20\n",
    "    print(num_1)\n",
    "except ValueError:\n",
    "    print(f'That\\'s not a valid number')"
   ]
  },
  {
   "cell_type": "code",
   "execution_count": 202,
   "metadata": {
    "collapsed": false
   },
   "outputs": [
    {
     "name": "stdout",
     "output_type": "stream",
     "text": [
      "Enter a number\n",
      "hello\n",
      "That's not a valid number\n"
     ]
    }
   ],
   "source": [
    "try:\n",
    "    x = input('Enter a number\\n')\n",
    "    x += 20\n",
    "    print(x)\n",
    "except TypeError:\n",
    "     print(f'That\\'s not a valid number')"
   ]
  },
  {
   "cell_type": "code",
   "execution_count": 203,
   "metadata": {
    "collapsed": false
   },
   "outputs": [
    {
     "name": "stdout",
     "output_type": "stream",
     "text": [
      "my_variable is not a valid defined\n"
     ]
    }
   ],
   "source": [
    "try:\n",
    "    print(my_variable)\n",
    "except NameError:\n",
    "    print(f'my_variable is not a valid defined')"
   ]
  },
  {
   "cell_type": "code",
   "execution_count": 204,
   "metadata": {
    "collapsed": false
   },
   "outputs": [
    {
     "name": "stdout",
     "output_type": "stream",
     "text": [
      "Enter a number \n",
      "hello\n",
      "That's not a valid number \n",
      "\n",
      "Please try again\n"
     ]
    }
   ],
   "source": [
    "try:\n",
    "    num_1 = int(input(\"Enter a number \\n\"))\n",
    "    num_1 += 20\n",
    "    print(num_1)\n",
    "except:\n",
    "    print(f'That\\'s not a valid number \\n')\n",
    "finally:\n",
    "    print('Please try again')\n",
    "    "
   ]
  },
  {
   "cell_type": "code",
   "execution_count": 205,
   "metadata": {
    "collapsed": false
   },
   "outputs": [
    {
     "name": "stdout",
     "output_type": "stream",
     "text": [
      "Enter a number\n",
      "hello\n",
      "That's not a valid number\n",
      "Reason:  must be str, not int\n"
     ]
    }
   ],
   "source": [
    "try:\n",
    "    x = input('Enter a number\\n')\n",
    "    x += 20\n",
    "    print(x)\n",
    "except(TypeError, ValueError) as err:\n",
    "    print(f'That\\'s not a valid number')\n",
    "    print('Reason: ', err)\n",
    "    "
   ]
  },
  {
   "cell_type": "code",
   "execution_count": 206,
   "metadata": {
    "collapsed": false
   },
   "outputs": [
    {
     "name": "stdout",
     "output_type": "stream",
     "text": [
      "Enter a number\n",
      "hello\n",
      "That's not a valid number\n",
      "Reason:  invalid literal for int() with base 10: 'hello'\n"
     ]
    }
   ],
   "source": [
    "try:\n",
    "    x = input('Enter a number\\n')\n",
    "    x = int(x)\n",
    "    x += 20\n",
    "    print(x)\n",
    "except(TypeError, ValueError) as err:\n",
    "    print(f'That\\'s not a valid number')\n",
    "    print('Reason: ', err)\n",
    "    "
   ]
  },
  {
   "cell_type": "code",
   "execution_count": 210,
   "metadata": {
    "collapsed": false
   },
   "outputs": [
    {
     "name": "stdout",
     "output_type": "stream",
     "text": [
      "Enter a number\n",
      "hello\n",
      "That's not a valid number\n",
      "Reason: Type error occured must be str, not int\n",
      "end of the program\n"
     ]
    }
   ],
   "source": [
    "try:\n",
    "    x = input('Enter a number\\n')\n",
    "    x += 20\n",
    "    print(x)\n",
    "except TypeError as err:\n",
    "    print(f'That\\'s not a valid number')\n",
    "    print(f'Reason: Type error occured {err}')\n",
    "except ValueError as err:\n",
    "    print(f'That\\'s not a valid number')\n",
    "    print(f'Reason: Value error occured {err}')\n",
    "except Exception as err:\n",
    "    print(\"Reason: \", err)\n",
    "finally:\n",
    "    print('end of the program')\n",
    "    "
   ]
  },
  {
   "cell_type": "markdown",
   "metadata": {},
   "source": [
    "### Files and imports"
   ]
  },
  {
   "cell_type": "code",
   "execution_count": 211,
   "metadata": {
    "collapsed": false
   },
   "outputs": [],
   "source": [
    "f = open('my_file.txt', 'w')\n",
    "f.write(\"Hello there!\")\n",
    "f.close()"
   ]
  },
  {
   "cell_type": "code",
   "execution_count": 212,
   "metadata": {
    "collapsed": true
   },
   "outputs": [],
   "source": [
    "f = open('my_file.txt', 'r')\n",
    "file_data = f.read()\n",
    "f.close()"
   ]
  },
  {
   "cell_type": "code",
   "execution_count": 213,
   "metadata": {
    "collapsed": false
   },
   "outputs": [
    {
     "name": "stdout",
     "output_type": "stream",
     "text": [
      "Hello there!\n"
     ]
    }
   ],
   "source": [
    "print(file_data)"
   ]
  },
  {
   "cell_type": "code",
   "execution_count": 214,
   "metadata": {
    "collapsed": false
   },
   "outputs": [
    {
     "name": "stdout",
     "output_type": "stream",
     "text": [
      "Hello there!\n"
     ]
    }
   ],
   "source": [
    "with open('my_file.txt', 'r') as f:\n",
    "    file_data = f.read()\n",
    "    print(file_data)"
   ]
  },
  {
   "cell_type": "code",
   "execution_count": 215,
   "metadata": {
    "collapsed": false
   },
   "outputs": [
    {
     "name": "stdout",
     "output_type": "stream",
     "text": [
      "Hello eric!\n"
     ]
    }
   ],
   "source": [
    "from myscript import *\n",
    "greetings('eric')"
   ]
  },
  {
   "cell_type": "code",
   "execution_count": 216,
   "metadata": {
    "collapsed": false
   },
   "outputs": [
    {
     "name": "stdout",
     "output_type": "stream",
     "text": [
      "Hello eric!\n"
     ]
    }
   ],
   "source": [
    "from myscript import greetings as g\n",
    "g('eric')"
   ]
  },
  {
   "cell_type": "code",
   "execution_count": 217,
   "metadata": {
    "collapsed": false
   },
   "outputs": [
    {
     "data": {
      "text/plain": [
       "3"
      ]
     },
     "execution_count": 217,
     "metadata": {},
     "output_type": "execute_result"
    }
   ],
   "source": [
    "from myscript import add\n",
    "add(1, 2)"
   ]
  },
  {
   "cell_type": "markdown",
   "metadata": {},
   "source": [
    "### Object Oriented Programming"
   ]
  },
  {
   "cell_type": "code",
   "execution_count": 218,
   "metadata": {
    "collapsed": true
   },
   "outputs": [],
   "source": [
    "from statistics import mean"
   ]
  },
  {
   "cell_type": "code",
   "execution_count": 219,
   "metadata": {
    "collapsed": false
   },
   "outputs": [],
   "source": [
    "class Student:\n",
    "    \"\"\"The Student class represents a student and his grades.\n",
    "    \"\"\"\n",
    "    \n",
    "    def __init__(self, first_name, last_name, country, grades):\n",
    "        \"\"\"Method for initializing a student object.\n",
    "        \n",
    "        Args:\n",
    "            first_name (str)\n",
    "            last_name (str)\n",
    "            country (str)\n",
    "            grades (list)\n",
    "\n",
    "        Attributes:\n",
    "            first_name (str): first name of a student object.\n",
    "            last_name (str): last name of a student object.\n",
    "            country (str): country of a student object\n",
    "            grades (list): grades of a student object\n",
    "            \n",
    "        \"\"\"\n",
    "        self.first_name = first_name\n",
    "        self.last_name = last_name\n",
    "        self.country = country\n",
    "        self.grades = grades\n",
    "        \n",
    "    def change_first_name(self, new_name):\n",
    "        \"\"\"The change_first_name method changes the first_name attribute of student pants object\n",
    "        \n",
    "        Args:\n",
    "            new_name (str): The new first name of the student object.\n",
    "            \n",
    "        Returns: None\n",
    "        \"\"\"\n",
    "        self.first_name = new_name\n",
    "    \n",
    "    def change_last_name(self, new_name):\n",
    "        \"\"\"The change_last_name method changes the last_name attribute of a student object\n",
    "        \n",
    "        Args:\n",
    "            new_name (str): The new last name of the student object\n",
    "            \n",
    "        Returns: None\n",
    "        \"\"\"\n",
    "        self.last_name = new_name\n",
    "        \n",
    "    def average_grades(self):\n",
    "        \"\"\"The average grade of the student object\n",
    "        \n",
    "        Returns:\n",
    "            float: the average grade\n",
    "        \"\"\"\n",
    "        return mean(self.grades)"
   ]
  },
  {
   "cell_type": "code",
   "execution_count": 220,
   "metadata": {
    "collapsed": true
   },
   "outputs": [],
   "source": [
    "s = Student('eric', 'brown', 'us', [23, 4,56])"
   ]
  },
  {
   "cell_type": "code",
   "execution_count": 221,
   "metadata": {
    "collapsed": false
   },
   "outputs": [
    {
     "data": {
      "text/plain": [
       "<__main__.Student at 0x111855710>"
      ]
     },
     "execution_count": 221,
     "metadata": {},
     "output_type": "execute_result"
    }
   ],
   "source": [
    "s"
   ]
  },
  {
   "cell_type": "code",
   "execution_count": 222,
   "metadata": {
    "collapsed": false
   },
   "outputs": [
    {
     "data": {
      "text/plain": [
       "'eric'"
      ]
     },
     "execution_count": 222,
     "metadata": {},
     "output_type": "execute_result"
    }
   ],
   "source": [
    "s.first_name"
   ]
  },
  {
   "cell_type": "code",
   "execution_count": 223,
   "metadata": {
    "collapsed": false
   },
   "outputs": [
    {
     "data": {
      "text/plain": [
       "'brown'"
      ]
     },
     "execution_count": 223,
     "metadata": {},
     "output_type": "execute_result"
    }
   ],
   "source": [
    "s.last_name"
   ]
  },
  {
   "cell_type": "code",
   "execution_count": 224,
   "metadata": {
    "collapsed": false
   },
   "outputs": [
    {
     "data": {
      "text/plain": [
       "'us'"
      ]
     },
     "execution_count": 224,
     "metadata": {},
     "output_type": "execute_result"
    }
   ],
   "source": [
    "s.country"
   ]
  },
  {
   "cell_type": "code",
   "execution_count": 225,
   "metadata": {
    "collapsed": false
   },
   "outputs": [
    {
     "data": {
      "text/plain": [
       "[23, 4, 56]"
      ]
     },
     "execution_count": 225,
     "metadata": {},
     "output_type": "execute_result"
    }
   ],
   "source": [
    "s.grades"
   ]
  },
  {
   "cell_type": "code",
   "execution_count": 226,
   "metadata": {
    "collapsed": false
   },
   "outputs": [
    {
     "name": "stdout",
     "output_type": "stream",
     "text": [
      "<__main__.Student object at 0x111855710>\n"
     ]
    }
   ],
   "source": [
    "print(s)"
   ]
  },
  {
   "cell_type": "code",
   "execution_count": 227,
   "metadata": {
    "collapsed": false
   },
   "outputs": [
    {
     "name": "stdout",
     "output_type": "stream",
     "text": [
      "The average is  27.67\n"
     ]
    }
   ],
   "source": [
    "print(f'The average is {s.average_grades(): .2f}')"
   ]
  },
  {
   "cell_type": "code",
   "execution_count": 228,
   "metadata": {
    "collapsed": false
   },
   "outputs": [
    {
     "name": "stdout",
     "output_type": "stream",
     "text": [
      "Help on Student in module __main__ object:\n",
      "\n",
      "class Student(builtins.object)\n",
      " |  The Student class represents a student and his grades.\n",
      " |  \n",
      " |  Methods defined here:\n",
      " |  \n",
      " |  __init__(self, first_name, last_name, country, grades)\n",
      " |      Method for initializing a student object.\n",
      " |      \n",
      " |      Args:\n",
      " |          first_name (str)\n",
      " |          last_name (str)\n",
      " |          country (str)\n",
      " |          grades (list)\n",
      " |      \n",
      " |      Attributes:\n",
      " |          first_name (str): first name of a student object.\n",
      " |          last_name (str): last name of a student object.\n",
      " |          country (str): country of a student object\n",
      " |          grades (list): grades of a student object\n",
      " |  \n",
      " |  average_grades(self)\n",
      " |      The average grade of the student object\n",
      " |      \n",
      " |      Returns:\n",
      " |          float: the average grade\n",
      " |  \n",
      " |  change_first_name(self, new_name)\n",
      " |      The change_first_name method changes the first_name attribute of student pants object\n",
      " |      \n",
      " |      Args:\n",
      " |          new_name (str): The new first name of the student object.\n",
      " |          \n",
      " |      Returns: None\n",
      " |  \n",
      " |  change_last_name(self, new_name)\n",
      " |      The change_last_name method changes the last_name attribute of a student object\n",
      " |      \n",
      " |      Args:\n",
      " |          new_name (str): The new last name of the student object\n",
      " |          \n",
      " |      Returns: None\n",
      " |  \n",
      " |  ----------------------------------------------------------------------\n",
      " |  Data descriptors defined here:\n",
      " |  \n",
      " |  __dict__\n",
      " |      dictionary for instance variables (if defined)\n",
      " |  \n",
      " |  __weakref__\n",
      " |      list of weak references to the object (if defined)\n",
      "\n"
     ]
    }
   ],
   "source": [
    "help(s)"
   ]
  },
  {
   "cell_type": "code",
   "execution_count": 229,
   "metadata": {
    "collapsed": false
   },
   "outputs": [
    {
     "name": "stdout",
     "output_type": "stream",
     "text": [
      "Help on method change_first_name in module __main__:\n",
      "\n",
      "change_first_name(new_name) method of __main__.Student instance\n",
      "    The change_first_name method changes the first_name attribute of student pants object\n",
      "    \n",
      "    Args:\n",
      "        new_name (str): The new first name of the student object.\n",
      "        \n",
      "    Returns: None\n",
      "\n"
     ]
    }
   ],
   "source": [
    "help(s.change_first_name)"
   ]
  },
  {
   "cell_type": "markdown",
   "metadata": {},
   "source": [
    "### Magic methods"
   ]
  },
  {
   "cell_type": "code",
   "execution_count": 230,
   "metadata": {
    "collapsed": true
   },
   "outputs": [],
   "source": [
    "class Student:\n",
    "    \"\"\"The Student class represents a student and his grades.\n",
    "    \"\"\"\n",
    "    \n",
    "    def __init__(self, first_name, last_name, country, grades):\n",
    "        \"\"\"Method for initializing a student object.\n",
    "        \n",
    "        Args:\n",
    "            first_name (str)\n",
    "            last_name (str)\n",
    "            country (str)\n",
    "            grades (list)\n",
    "\n",
    "        Attributes:\n",
    "            first_name (str): first name of a student object.\n",
    "            last_name (str): last name of a student object.\n",
    "            country (str): country of a student object\n",
    "            grades (list): grades of a student object\n",
    "            \n",
    "        \"\"\"\n",
    "        self.first_name = first_name\n",
    "        self.last_name = last_name\n",
    "        self.country = country\n",
    "        self.grades = grades\n",
    "        \n",
    "    def change_first_name(self, new_name):\n",
    "        \"\"\"The change_first_name method changes the first_name attribute of student object\n",
    "        \n",
    "        Args:\n",
    "            new_name (str): The new first name of the student object.\n",
    "            \n",
    "        Returns: None\n",
    "        \"\"\"\n",
    "        self.first_name = new_name\n",
    "    \n",
    "    def change_last_name(self, new_name):\n",
    "        \"\"\"The change_last_name method changes the last_name attribute of a student object\n",
    "        \n",
    "        Args:\n",
    "            new_name (str): The new last name of the student object\n",
    "            \n",
    "        Returns: None\n",
    "        \"\"\"\n",
    "        self.last_name = new_name\n",
    "        \n",
    "    def __repr__(self):\n",
    "        return f'Student ({self.first_name} {self.last_name}, {self.country}, {self.grades})'\n",
    "    \n",
    "    def __str__(self):\n",
    "        return f'A student with first name: {self.first_name}, Last name: {self.last_name},Country of origin {self.country}, Grades {self.grades}'\n",
    "        \n",
    "    def average_grades(self):\n",
    "        \"\"\"The average grade of the student object\n",
    "        \n",
    "        Args:\n",
    "            None\n",
    "        \n",
    "        Returns:\n",
    "            float: the average grade\n",
    "        \"\"\"\n",
    "        return mean(self.grades)"
   ]
  },
  {
   "cell_type": "code",
   "execution_count": null,
   "metadata": {
    "collapsed": false
   },
   "outputs": [],
   "source": []
  },
  {
   "cell_type": "code",
   "execution_count": 231,
   "metadata": {
    "collapsed": true
   },
   "outputs": [],
   "source": [
    "s = Student('eric', 'brown', 'us', [23, 4,56])"
   ]
  },
  {
   "cell_type": "code",
   "execution_count": 232,
   "metadata": {
    "collapsed": false
   },
   "outputs": [
    {
     "name": "stdout",
     "output_type": "stream",
     "text": [
      "A student with first name: eric, Last name: brown,Country of origin us, Grades [23, 4, 56]\n"
     ]
    }
   ],
   "source": [
    "print(s)"
   ]
  },
  {
   "cell_type": "code",
   "execution_count": 235,
   "metadata": {
    "collapsed": false
   },
   "outputs": [
    {
     "data": {
      "text/plain": [
       "Student (eric brown, us, [23, 4, 56])"
      ]
     },
     "execution_count": 235,
     "metadata": {},
     "output_type": "execute_result"
    }
   ],
   "source": [
    "s"
   ]
  },
  {
   "cell_type": "code",
   "execution_count": 236,
   "metadata": {
    "collapsed": false
   },
   "outputs": [
    {
     "data": {
      "text/plain": [
       "'eric'"
      ]
     },
     "execution_count": 236,
     "metadata": {},
     "output_type": "execute_result"
    }
   ],
   "source": [
    "s.first_name"
   ]
  },
  {
   "cell_type": "markdown",
   "metadata": {},
   "source": [
    "### Inheritance"
   ]
  },
  {
   "cell_type": "code",
   "execution_count": 237,
   "metadata": {
    "collapsed": false
   },
   "outputs": [],
   "source": [
    "class Person:\n",
    "    \"\"\"The Person class represents a Person.\n",
    "    \"\"\"\n",
    "    \n",
    "    def __init__(self, first_name, last_name, country):\n",
    "        \"\"\"Method for initializing a Person object.\n",
    "        \n",
    "        Args:\n",
    "            first_name (str)\n",
    "            last_name (str)\n",
    "            country (str)\n",
    "        Attributes:\n",
    "            first_name (str): first name of a person object.\n",
    "            last_name (str): last name of a person object.\n",
    "            country (str): country of a person object\n",
    "            \n",
    "        \"\"\"\n",
    "        self.first_name = first_name\n",
    "        self.last_name = last_name\n",
    "        self.country = country\n",
    "        \n",
    "        \n",
    "    def change_first_name(self, new_name):\n",
    "        \"\"\"The change_first_name method changes the first_name attribute of a person object\n",
    "        \n",
    "        Args:\n",
    "            new_name (str): The new first name of the person bject.\n",
    "            \n",
    "        Returns: None\n",
    "        \"\"\"\n",
    "        self.first_name = new_name\n",
    "    \n",
    "    def change_last_name(self, new_name):\n",
    "        \"\"\"The change_last_name method changes the last_name attribute of a person object\n",
    "        \n",
    "        Args:\n",
    "            new_name (str): The new last name of the person object\n",
    "            \n",
    "        Returns: None\n",
    "        \"\"\"\n",
    "        self.last_name = new_name\n",
    "        \n",
    "    def __repr__(self):\n",
    "        \"\"\"Function to output the characteristics of a person object\n",
    "        Args:\n",
    "            None\n",
    "        Returns:\n",
    "            string: characteristics of a person object\n",
    "        \"\"\"\n",
    "        return f'Student ({self.first_name} {self.last_name}, {self.country})'\n",
    "    \n",
    "    def __str__(self):\n",
    "        \"\"\"Function to output the characteristics of a person object in a readable format.\n",
    "        Args:\n",
    "            None\n",
    "        Returns:\n",
    "            string: characteristics of a person object in a readable format.\n",
    "        \n",
    "        \"\"\"\n",
    "        return f'A student with first name: {self.first_name}, Last name: {self.last_name},Country of origin {self.country}'\n",
    "        "
   ]
  },
  {
   "cell_type": "code",
   "execution_count": 246,
   "metadata": {
    "collapsed": false
   },
   "outputs": [],
   "source": [
    "class Student1(Person):\n",
    "    \"\"\"The Student1 class represents a student\n",
    "    \"\"\"\n",
    "    \n",
    "    def __init__(self, first_name, last_name, country, grades):\n",
    "        \"\"\"Method for initializing a Student1 object.\n",
    "        \n",
    "        Args:\n",
    "            first_name (str)\n",
    "            last_name (str)\n",
    "            country (str)\n",
    "            grades (list)\n",
    "        Attributes:\n",
    "            first_name (str): first name of a Student1 object.\n",
    "            last_name (str): last name of a Student1 object.\n",
    "            country (str): country of a Student1 object\n",
    "            grades (list): grades of a Student1 object\n",
    "        \"\"\"\n",
    "        self.grades = grades\n",
    "        super().__init__(first_name, last_name, country)\n",
    "        \n",
    "    \n",
    "    def average_grades(self):\n",
    "        \"\"\"The average grade of the student object\n",
    "        \n",
    "        Returns:\n",
    "            float: the average grade\n",
    "        \"\"\"\n",
    "        return mean(self.grades)\n",
    "    \n",
    "    def __repr__(self):\n",
    "        return f'Student ({self.first_name} {self.last_name}, {self.country}, {self.grades})'\n",
    "    \n",
    "    def __str__(self):\n",
    "        return f'A student with first name: {self.first_name}, Last name: {self.last_name},Country of origin {self.country}, Grades {self.grades}'\n",
    "        "
   ]
  },
  {
   "cell_type": "code",
   "execution_count": 247,
   "metadata": {
    "collapsed": true
   },
   "outputs": [],
   "source": [
    "s1 = Student1('eric', 'brown', 'us', [23, 4,56])"
   ]
  },
  {
   "cell_type": "code",
   "execution_count": 248,
   "metadata": {
    "collapsed": false
   },
   "outputs": [
    {
     "data": {
      "text/plain": [
       "Student (eric brown, us, [23, 4, 56])"
      ]
     },
     "execution_count": 248,
     "metadata": {},
     "output_type": "execute_result"
    }
   ],
   "source": [
    "s1"
   ]
  },
  {
   "cell_type": "code",
   "execution_count": 249,
   "metadata": {
    "collapsed": false
   },
   "outputs": [],
   "source": [
    "s1.change_first_name('joseph')"
   ]
  },
  {
   "cell_type": "code",
   "execution_count": 250,
   "metadata": {
    "collapsed": false
   },
   "outputs": [
    {
     "name": "stdout",
     "output_type": "stream",
     "text": [
      "A student with first name: joseph, Last name: brown,Country of origin us, Grades [23, 4, 56]\n"
     ]
    }
   ],
   "source": [
    "print(s1)"
   ]
  },
  {
   "cell_type": "code",
   "execution_count": 241,
   "metadata": {
    "collapsed": false
   },
   "outputs": [
    {
     "name": "stdout",
     "output_type": "stream",
     "text": [
      "Help on Student1 in module __main__ object:\n",
      "\n",
      "class Student1(Person)\n",
      " |  The Student1 class represents a student\n",
      " |  \n",
      " |  Method resolution order:\n",
      " |      Student1\n",
      " |      Person\n",
      " |      builtins.object\n",
      " |  \n",
      " |  Methods defined here:\n",
      " |  \n",
      " |  __init__(self, first_name, last_name, country, grades)\n",
      " |      Method for initializing a Student1 object.\n",
      " |      \n",
      " |      Args:\n",
      " |          first_name (str)\n",
      " |          last_name (str)\n",
      " |          country (str)\n",
      " |          grades (list)\n",
      " |      Attributes:\n",
      " |          first_name (str): first name of a Student1 object.\n",
      " |          last_name (str): last name of a Student1 object.\n",
      " |          country (str): country of a Student1 object\n",
      " |          grades (list): grades of a Student1 object\n",
      " |  \n",
      " |  __repr__(self)\n",
      " |      Function to output the characteristics of a person object\n",
      " |      Args:\n",
      " |          None\n",
      " |      Returns:\n",
      " |          string: characteristics of a person object\n",
      " |  \n",
      " |  __str__(self)\n",
      " |      Function to output the characteristics of a person object in a readable format.\n",
      " |      Args:\n",
      " |          None\n",
      " |      Returns:\n",
      " |          string: characteristics of a person object in a readable format.\n",
      " |  \n",
      " |  average_grades(self)\n",
      " |      The average grade of the student object\n",
      " |      \n",
      " |      Returns:\n",
      " |          float: the average grade\n",
      " |  \n",
      " |  ----------------------------------------------------------------------\n",
      " |  Methods inherited from Person:\n",
      " |  \n",
      " |  change_first_name(self, new_name)\n",
      " |      The change_first_name method changes the first_name attribute of a person object\n",
      " |      \n",
      " |      Args:\n",
      " |          new_name (str): The new first name of the person bject.\n",
      " |          \n",
      " |      Returns: None\n",
      " |  \n",
      " |  change_last_name(self, new_name)\n",
      " |      The change_last_name method changes the last_name attribute of a person object\n",
      " |      \n",
      " |      Args:\n",
      " |          new_name (str): The new last name of the person object\n",
      " |          \n",
      " |      Returns: None\n",
      " |  \n",
      " |  ----------------------------------------------------------------------\n",
      " |  Data descriptors inherited from Person:\n",
      " |  \n",
      " |  __dict__\n",
      " |      dictionary for instance variables (if defined)\n",
      " |  \n",
      " |  __weakref__\n",
      " |      list of weak references to the object (if defined)\n",
      "\n"
     ]
    }
   ],
   "source": [
    "help(s1)"
   ]
  },
  {
   "cell_type": "code",
   "execution_count": 251,
   "metadata": {
    "collapsed": true
   },
   "outputs": [],
   "source": [
    "s1.change_first_name('johnson')"
   ]
  },
  {
   "cell_type": "code",
   "execution_count": 252,
   "metadata": {
    "collapsed": false
   },
   "outputs": [
    {
     "data": {
      "text/plain": [
       "Student (johnson brown, us, [23, 4, 56])"
      ]
     },
     "execution_count": 252,
     "metadata": {},
     "output_type": "execute_result"
    }
   ],
   "source": [
    "s1"
   ]
  },
  {
   "cell_type": "markdown",
   "metadata": {},
   "source": [
    "### Putting all together"
   ]
  },
  {
   "cell_type": "code",
   "execution_count": 253,
   "metadata": {
    "collapsed": false
   },
   "outputs": [
    {
     "name": "stdout",
     "output_type": "stream",
     "text": [
      "monica,brown,us,1 2 3 4 5\n",
      "stephen,johnson,us,6 7 8 9 10\n",
      "daria,montieri,italy,34 56 78 13\n",
      "joseph,buchon,france,5 67 8 90 2\n",
      "emilie,rousseau,france,34 56 7 12 34\n",
      "alexandria,panietieri,italy,56 6 23 1 2\n",
      "sac,dupont,belgium,34 56 78 9 0 12\n",
      "marco,sortino,italy,45 67 8 9 0\n",
      "michelle,frocio,italy,65 78 89 0 90\n",
      "decamilla,branbieri,italy,3 4 5 6 7\n"
     ]
    }
   ],
   "source": [
    "with open('students.txt', 'r') as f:\n",
    "    data = f.read()\n",
    "    print(data)\n",
    "    "
   ]
  },
  {
   "cell_type": "code",
   "execution_count": 255,
   "metadata": {
    "collapsed": false
   },
   "outputs": [
    {
     "name": "stdout",
     "output_type": "stream",
     "text": [
      "monica brown us 1 2 3 4 5\n",
      "stephen johnson us 6 7 8 9 10\n",
      "daria montieri italy 34 56 78 13\n",
      "joseph buchon france 5 67 8 90 2\n",
      "emilie rousseau france 34 56 7 12 34\n",
      "alexandria panietieri italy 56 6 23 1 2\n",
      "sac dupont belgium 34 56 78 9 0 12\n",
      "marco sortino italy 45 67 8 9 0\n",
      "michelle frocio italy 65 78 89 0 90\n",
      "decamilla branbieri italy 3 4 5 6 7\n"
     ]
    }
   ],
   "source": [
    "import csv\n",
    "with open('students.txt', 'r') as f:\n",
    "    rows = csv.reader(f)\n",
    "    for line in rows:\n",
    "        first, last, country, grades = line\n",
    "        print(first, last, country, grades)\n",
    "        \n",
    "    "
   ]
  },
  {
   "cell_type": "code",
   "execution_count": 260,
   "metadata": {
    "collapsed": false
   },
   "outputs": [],
   "source": [
    "students = []\n",
    "with open('students.txt', 'r') as f:\n",
    "    rows = csv.reader(f)\n",
    "    for line in rows:\n",
    "        first, last, country, grades = line\n",
    "        grades = [int(grade) for grade in grades.split()]\n",
    "        s = Student1(first, last, country, grades)\n",
    "        students.append(s)\n",
    "        \n",
    "       "
   ]
  },
  {
   "cell_type": "code",
   "execution_count": 261,
   "metadata": {
    "collapsed": false
   },
   "outputs": [
    {
     "data": {
      "text/plain": [
       "[Student (monica brown, us, [1, 2, 3, 4, 5]),\n",
       " Student (stephen johnson, us, [6, 7, 8, 9, 10]),\n",
       " Student (daria montieri, italy, [34, 56, 78, 13]),\n",
       " Student (joseph buchon, france, [5, 67, 8, 90, 2]),\n",
       " Student (emilie rousseau, france, [34, 56, 7, 12, 34]),\n",
       " Student (alexandria panietieri, italy, [56, 6, 23, 1, 2]),\n",
       " Student (sac dupont, belgium, [34, 56, 78, 9, 0, 12]),\n",
       " Student (marco sortino, italy, [45, 67, 8, 9, 0]),\n",
       " Student (michelle frocio, italy, [65, 78, 89, 0, 90]),\n",
       " Student (decamilla branbieri, italy, [3, 4, 5, 6, 7])]"
      ]
     },
     "execution_count": 261,
     "metadata": {},
     "output_type": "execute_result"
    }
   ],
   "source": [
    "students"
   ]
  },
  {
   "cell_type": "code",
   "execution_count": 262,
   "metadata": {
    "collapsed": false
   },
   "outputs": [
    {
     "name": "stdout",
     "output_type": "stream",
     "text": [
      "[Student (monica brown, us, [1, 2, 3, 4, 5]), Student (stephen johnson, us, [6, 7, 8, 9, 10]), Student (daria montieri, italy, [34, 56, 78, 13]), Student (joseph buchon, france, [5, 67, 8, 90, 2]), Student (emilie rousseau, france, [34, 56, 7, 12, 34]), Student (alexandria panietieri, italy, [56, 6, 23, 1, 2]), Student (sac dupont, belgium, [34, 56, 78, 9, 0, 12]), Student (marco sortino, italy, [45, 67, 8, 9, 0]), Student (michelle frocio, italy, [65, 78, 89, 0, 90]), Student (decamilla branbieri, italy, [3, 4, 5, 6, 7])]\n"
     ]
    }
   ],
   "source": [
    "print(students)"
   ]
  },
  {
   "cell_type": "code",
   "execution_count": 263,
   "metadata": {
    "collapsed": false
   },
   "outputs": [
    {
     "name": "stdout",
     "output_type": "stream",
     "text": [
      "A student with first name: monica, Last name: brown,Country of origin us, Grades [1, 2, 3, 4, 5]\n",
      "A student with first name: stephen, Last name: johnson,Country of origin us, Grades [6, 7, 8, 9, 10]\n",
      "A student with first name: daria, Last name: montieri,Country of origin italy, Grades [34, 56, 78, 13]\n",
      "A student with first name: joseph, Last name: buchon,Country of origin france, Grades [5, 67, 8, 90, 2]\n",
      "A student with first name: emilie, Last name: rousseau,Country of origin france, Grades [34, 56, 7, 12, 34]\n",
      "A student with first name: alexandria, Last name: panietieri,Country of origin italy, Grades [56, 6, 23, 1, 2]\n",
      "A student with first name: sac, Last name: dupont,Country of origin belgium, Grades [34, 56, 78, 9, 0, 12]\n",
      "A student with first name: marco, Last name: sortino,Country of origin italy, Grades [45, 67, 8, 9, 0]\n",
      "A student with first name: michelle, Last name: frocio,Country of origin italy, Grades [65, 78, 89, 0, 90]\n",
      "A student with first name: decamilla, Last name: branbieri,Country of origin italy, Grades [3, 4, 5, 6, 7]\n"
     ]
    }
   ],
   "source": [
    "for student in students:\n",
    "    print(student)"
   ]
  },
  {
   "cell_type": "code",
   "execution_count": 309,
   "metadata": {
    "collapsed": true
   },
   "outputs": [],
   "source": [
    "from abc import ABC, abstractmethod\n",
    "\n",
    "class My_interface(ABC):\n",
    "    \n",
    "    @abstractmethod\n",
    "    def my_method(self):\n",
    "        pass\n",
    "    \n",
    "    def my_method2(self):\n",
    "        print('This is a non abstract method')"
   ]
  },
  {
   "cell_type": "code",
   "execution_count": 310,
   "metadata": {
    "collapsed": true
   },
   "outputs": [],
   "source": [
    "class My_child(My_interface):\n",
    "    def my_method(self):\n",
    "        print('this is the abstract method')\n",
    "    \n",
    "        "
   ]
  },
  {
   "cell_type": "code",
   "execution_count": 311,
   "metadata": {
    "collapsed": false
   },
   "outputs": [],
   "source": [
    "my_child = My_child()"
   ]
  },
  {
   "cell_type": "code",
   "execution_count": 312,
   "metadata": {
    "collapsed": false
   },
   "outputs": [
    {
     "name": "stdout",
     "output_type": "stream",
     "text": [
      "this is the abstract method\n"
     ]
    }
   ],
   "source": [
    "my_child.my_method()"
   ]
  },
  {
   "cell_type": "code",
   "execution_count": 313,
   "metadata": {
    "collapsed": false
   },
   "outputs": [
    {
     "name": "stdout",
     "output_type": "stream",
     "text": [
      "This is a non abstract method\n"
     ]
    }
   ],
   "source": [
    "my_child.my_method2()"
   ]
  },
  {
   "cell_type": "code",
   "execution_count": 314,
   "metadata": {
    "collapsed": false
   },
   "outputs": [
    {
     "ename": "TypeError",
     "evalue": "Can't instantiate abstract class My_interface with abstract methods my_method",
     "output_type": "error",
     "traceback": [
      "\u001b[0;31m---------------------------------------------------------------------------\u001b[0m",
      "\u001b[0;31mTypeError\u001b[0m                                 Traceback (most recent call last)",
      "\u001b[0;32m<ipython-input-314-cc2b73d87716>\u001b[0m in \u001b[0;36m<module>\u001b[0;34m()\u001b[0m\n\u001b[0;32m----> 1\u001b[0;31m \u001b[0mmi\u001b[0m \u001b[0;34m=\u001b[0m \u001b[0mMy_interface\u001b[0m\u001b[0;34m(\u001b[0m\u001b[0;34m)\u001b[0m\u001b[0;34m\u001b[0m\u001b[0m\n\u001b[0m",
      "\u001b[0;31mTypeError\u001b[0m: Can't instantiate abstract class My_interface with abstract methods my_method"
     ]
    }
   ],
   "source": [
    "mi = My_interface()"
   ]
  },
  {
   "cell_type": "code",
   "execution_count": 315,
   "metadata": {
    "collapsed": false
   },
   "outputs": [
    {
     "name": "stdout",
     "output_type": "stream",
     "text": [
      "Help on My_interface in module __main__ object:\n",
      "\n",
      "class My_interface(abc.ABC)\n",
      " |  Helper class that provides a standard way to create an ABC using\n",
      " |  inheritance.\n",
      " |  \n",
      " |  Method resolution order:\n",
      " |      My_interface\n",
      " |      abc.ABC\n",
      " |      builtins.object\n",
      " |  \n",
      " |  Methods defined here:\n",
      " |  \n",
      " |  my_method(self)\n",
      " |  \n",
      " |  ----------------------------------------------------------------------\n",
      " |  Data and other attributes defined here:\n",
      " |  \n",
      " |  __abstractmethods__ = frozenset()\n",
      " |  \n",
      " |  ----------------------------------------------------------------------\n",
      " |  Data descriptors inherited from abc.ABC:\n",
      " |  \n",
      " |  __dict__\n",
      " |      dictionary for instance variables (if defined)\n",
      " |  \n",
      " |  __weakref__\n",
      " |      list of weak references to the object (if defined)\n",
      "\n"
     ]
    }
   ],
   "source": [
    "help(mi)"
   ]
  },
  {
   "cell_type": "code",
   "execution_count": 316,
   "metadata": {
    "collapsed": false
   },
   "outputs": [],
   "source": [
    "mi.my_method()"
   ]
  },
  {
   "cell_type": "code",
   "execution_count": null,
   "metadata": {
    "collapsed": true
   },
   "outputs": [],
   "source": []
  }
 ],
 "metadata": {
  "anaconda-cloud": {},
  "kernelspec": {
   "display_name": "Python [conda env:tensorflow]",
   "language": "python",
   "name": "conda-env-tensorflow-py"
  },
  "language_info": {
   "codemirror_mode": {
    "name": "ipython",
    "version": 3
   },
   "file_extension": ".py",
   "mimetype": "text/x-python",
   "name": "python",
   "nbconvert_exporter": "python",
   "pygments_lexer": "ipython3",
   "version": "3.6.2"
  }
 },
 "nbformat": 4,
 "nbformat_minor": 1
}
