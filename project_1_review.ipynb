{
 "cells": [
  {
   "cell_type": "markdown",
   "metadata": {},
   "source": [
    "## Webinar #5: Project 1 steps and tips"
   ]
  },
  {
   "cell_type": "markdown",
   "metadata": {},
   "source": [
    "The purpose of this notebook is to help you successfully complete your first project. We will first build a basic search tool, which will enable you to play a little bit with python, and then we will go through the entire project 1. The mini search tool that we will build will cover almost all the type of code you will have to write in project 1. "
   ]
  },
  {
   "cell_type": "markdown",
   "metadata": {},
   "source": [
    "## Part1: Warmup: Build a mini search tool"
   ]
  },
  {
   "cell_type": "markdown",
   "metadata": {},
   "source": [
    "In this warmup section, we will build a mini project that will cover all the concept that you will use during the first project. "
   ]
  },
  {
   "cell_type": "markdown",
   "metadata": {},
   "source": [
    "## Project description"
   ]
  },
  {
   "cell_type": "markdown",
   "metadata": {},
   "source": [
    "You have a list of files and a sentence, and you would like to know the statistics about words in the sentence within your list of files. \n",
    "So, Our tool will take as input a sentence and output statistics about words in the sentence within your list of files."
   ]
  },
  {
   "cell_type": "code",
   "execution_count": 679,
   "metadata": {
    "collapsed": true
   },
   "outputs": [],
   "source": [
    "# folder that contains the files\n",
    "FOLDER = 'text_files'"
   ]
  },
  {
   "cell_type": "markdown",
   "metadata": {},
   "source": [
    "### Time module"
   ]
  },
  {
   "cell_type": "markdown",
   "metadata": {},
   "source": [
    "The time module is used to compute the computational cost of a code block. We will use it throughout this notebook"
   ]
  },
  {
   "cell_type": "code",
   "execution_count": 680,
   "metadata": {
    "collapsed": true
   },
   "outputs": [],
   "source": [
    "def convert_time(tot_time):\n",
    "    \"\"\"This function converts a time(in second) to hours, minutes, and seconds.\n",
    "        And print the result in the following format: xh:ymin:zs, where x, y, z represent \n",
    "        respectively the hour, the minute and the second\n",
    "        \n",
    "        Args: tot_time (int): the time in second we want to convert\n",
    "        \n",
    "        Return: None\n",
    "    \"\"\"\n",
    "    hours = int((tot_time / 3600))\n",
    "    minutes = int(((tot_time %3600)/60))\n",
    "    seconds = int( ( (tot_time % 3600) % 60 ) )\n",
    "    \n",
    "    print(f\"\\nTotal Elapsed Runtime: {str(hours)}h:{str(minutes)}min:{str(seconds)}s\")"
   ]
  },
  {
   "cell_type": "code",
   "execution_count": 681,
   "metadata": {
    "collapsed": false
   },
   "outputs": [
    {
     "name": "stdout",
     "output_type": "stream",
     "text": [
      "Here are the files inside my directory\n",
      "\n",
      "['.ipynb_checkpoints',\n",
      " 'fifth_file_05.txt',\n",
      " 'first_file_01.txt',\n",
      " 'fourth_file_04.txt',\n",
      " 'second_file_02.txt',\n",
      " 'third_file_03.txt']\n",
      "\n",
      "time elapsed:  2.08ms\n"
     ]
    }
   ],
   "source": [
    "# Let's read all the file in our directory\n",
    "from time import time\n",
    "from os import listdir\n",
    "from pprint import pprint\n",
    "start_time = time()\n",
    "files = listdir(FOLDER)\n",
    "print('Here are the files inside my directory\\n')\n",
    "pprint(files)\n",
    "end_time = time()\n",
    "tot_time = end_time - start_time\n",
    "print()\n",
    "print(f'time elapsed: {tot_time*1000: .2f}ms')"
   ]
  },
  {
   "cell_type": "code",
   "execution_count": 682,
   "metadata": {
    "collapsed": false
   },
   "outputs": [],
   "source": [
    "del files[0]"
   ]
  },
  {
   "cell_type": "code",
   "execution_count": 683,
   "metadata": {
    "collapsed": false
   },
   "outputs": [
    {
     "data": {
      "text/plain": [
       "['fifth_file_05.txt',\n",
       " 'first_file_01.txt',\n",
       " 'fourth_file_04.txt',\n",
       " 'second_file_02.txt',\n",
       " 'third_file_03.txt']"
      ]
     },
     "execution_count": 683,
     "metadata": {},
     "output_type": "execute_result"
    }
   ],
   "source": [
    "files"
   ]
  },
  {
   "cell_type": "markdown",
   "metadata": {},
   "source": [
    "We have 5 files inside our folder. Now let's look at the text inside the individual file. "
   ]
  },
  {
   "cell_type": "code",
   "execution_count": 684,
   "metadata": {
    "collapsed": false,
    "scrolled": true
   },
   "outputs": [
    {
     "name": "stdout",
     "output_type": "stream",
     "text": [
      "text in file: fifth_file_05.txt\n",
      "['With its budget slashed', ' the I.R.S. has pulled back across the board — except for one area where it’s been easier to keep the numbers from falling so much: audits of the poor. More than one-third of all audit targets claim the earned-income tax credit', ' one of the nation’s largest anti-poverty programs. By the hundreds of thousands', ' I.R.S. computers spit out letters that require low-income taxpayers to prove their eligibility. The counties with the highest audit rates aren’t found in the hedge fund precincts of Connecticut or the lobbyist enclaves of Northern Virginia. No', ' they’re rural', ' mostly African-American counties in the Deep South.']\n",
      "\n",
      "text in file: first_file_01.txt\n",
      "['Businesses and the wealthy benefit the most from this state of affairs. The largest corporations in America used to be audited every year. That started to change when the cuts began', ' and today', ' the audit rate has fallen by half. It’s a similar story for individuals making $10 million or more a year: With twice the chance of escaping I.R.S. scrutiny', ' the ultrarich are much less likely to lose at the game of audit roulette.']\n",
      "\n",
      "text in file: fourth_file_04.txt\n",
      "['It’s much easier to enforce the tax laws for the bottom 90 percent of earners. Wages are reported straight to the I.R.S.', ' and computers can easily check that tax returns accurately report that income. This means that inadequate enforcement of the tax laws necessarily has a regressive effect', ' liberating those at the top from scrutiny while the masses continue to be tracked by machines.']\n",
      "\n",
      "text in file: second_file_02.txt\n",
      "['Fixing the problem will require more than increasing the I.R.S.’s budget (though that would certainly help). It’s about having the right personnel with the right skills. Today', ' the wealthy and corporations have the I.R.S. outgunned. The ultra-affluent — with the help of legions of tax professionals — make domestic income disappear overseas or hide it in a pyramid of partnerships. It’s like trying to take on a modern army while armed with spears and clubs.']\n",
      "\n",
      "text in file: third_file_03.txt\n",
      "['The I.R.S. has difficulty tracing the income of the superwealthy or countering their sophisticated arguments about why what appears to be one type of income is actually something else. The agency has also trouble valuing their assets (a problem that', ' as The New York Times revealed', ' dates back at least to when Fred Trump was misleading the I.R.S. about how much his buildings were worth). By the public admission of numerous I.R.S. officials', ' it has long done a poor job of scrutinizing complicated partnerships to understand who owns what portion of what stock.']\n",
      "\n",
      "\n",
      "time elapsed:  11.16ms\n"
     ]
    }
   ],
   "source": [
    "import csv\n",
    "import os\n",
    "start_time = time()\n",
    "for file in files:\n",
    "    with open(os.path.join(FOLDER, file), 'r') as f:\n",
    "        print(f'text in file: {f.name.split(\"/\")[1]}')\n",
    "        reader = csv.reader(f, delimiter=',')\n",
    "        for row in reader:\n",
    "            print(row)\n",
    "        print()\n",
    "end_time = time()\n",
    "tot_time = end_time - start_time\n",
    "print()\n",
    "print(f'time elapsed: {tot_time*1000: .2f}ms')"
   ]
  },
  {
   "cell_type": "markdown",
   "metadata": {},
   "source": [
    "Now that we know what is inside our file, let's process it."
   ]
  },
  {
   "cell_type": "markdown",
   "metadata": {},
   "source": [
    "### Working with dictionary"
   ]
  },
  {
   "cell_type": "markdown",
   "metadata": {},
   "source": [
    "In this section we will see different way to work with dictionary."
   ]
  },
  {
   "cell_type": "raw",
   "metadata": {},
   "source": [
    "Here are different way to create a dictionary.\n",
    "d = {\n",
    "    <key>: <value>,\n",
    "    <key>: <value>,\n",
    "      .\n",
    "      .\n",
    "      .\n",
    "    <key>: <value>\n",
    "}\n",
    "\n",
    "d = dict([\n",
    "    (<key>, <value>),\n",
    "    (<key>, <value),\n",
    "      .\n",
    "      .\n",
    "      .\n",
    "    (<key>, <value>)\n",
    "])\n",
    "\n",
    "d = dict()\n",
    "\n",
    "key: must be immutable"
   ]
  },
  {
   "cell_type": "code",
   "execution_count": 685,
   "metadata": {
    "collapsed": true
   },
   "outputs": [],
   "source": [
    "# let's create a dictionary of file_name:text\n",
    "# {filename: [text], ...}\n",
    "\n",
    "file_text = {}\n",
    "for file in files:\n",
    "    with open(os.path.join(FOLDER, file), 'r') as f:\n",
    "        reader = csv.reader(f, delimiter=',')\n",
    "        for row in reader:\n",
    "            file_text[file] = row\n",
    "        "
   ]
  },
  {
   "cell_type": "code",
   "execution_count": 686,
   "metadata": {
    "collapsed": false
   },
   "outputs": [
    {
     "name": "stdout",
     "output_type": "stream",
     "text": [
      "{'fifth_file_05.txt': ['With its budget slashed',\n",
      "                       ' the I.R.S. has pulled back across the board — except '\n",
      "                       'for one area where it’s been easier to keep the '\n",
      "                       'numbers from falling so much: audits of the poor. More '\n",
      "                       'than one-third of all audit targets claim the '\n",
      "                       'earned-income tax credit',\n",
      "                       ' one of the nation’s largest anti-poverty programs. By '\n",
      "                       'the hundreds of thousands',\n",
      "                       ' I.R.S. computers spit out letters that require '\n",
      "                       'low-income taxpayers to prove their eligibility. The '\n",
      "                       'counties with the highest audit rates aren’t found in '\n",
      "                       'the hedge fund precincts of Connecticut or the '\n",
      "                       'lobbyist enclaves of Northern Virginia. No',\n",
      "                       ' they’re rural',\n",
      "                       ' mostly African-American counties in the Deep South.'],\n",
      " 'first_file_01.txt': ['Businesses and the wealthy benefit the most from this '\n",
      "                       'state of affairs. The largest corporations in America '\n",
      "                       'used to be audited every year. That started to change '\n",
      "                       'when the cuts began',\n",
      "                       ' and today',\n",
      "                       ' the audit rate has fallen by half. It’s a similar '\n",
      "                       'story for individuals making $10 million or more a '\n",
      "                       'year: With twice the chance of escaping I.R.S. '\n",
      "                       'scrutiny',\n",
      "                       ' the ultrarich are much less likely to lose at the '\n",
      "                       'game of audit roulette.'],\n",
      " 'fourth_file_04.txt': ['It’s much easier to enforce the tax laws for the '\n",
      "                        'bottom 90 percent of earners. Wages are reported '\n",
      "                        'straight to the I.R.S.',\n",
      "                        ' and computers can easily check that tax returns '\n",
      "                        'accurately report that income. This means that '\n",
      "                        'inadequate enforcement of the tax laws necessarily '\n",
      "                        'has a regressive effect',\n",
      "                        ' liberating those at the top from scrutiny while the '\n",
      "                        'masses continue to be tracked by machines.'],\n",
      " 'second_file_02.txt': ['Fixing the problem will require more than increasing '\n",
      "                        'the I.R.S.’s budget (though that would certainly '\n",
      "                        'help). It’s about having the right personnel with the '\n",
      "                        'right skills. Today',\n",
      "                        ' the wealthy and corporations have the I.R.S. '\n",
      "                        'outgunned. The ultra-affluent — with the help of '\n",
      "                        'legions of tax professionals — make domestic income '\n",
      "                        'disappear overseas or hide it in a pyramid of '\n",
      "                        'partnerships. It’s like trying to take on a modern '\n",
      "                        'army while armed with spears and clubs.'],\n",
      " 'third_file_03.txt': ['The I.R.S. has difficulty tracing the income of the '\n",
      "                       'superwealthy or countering their sophisticated '\n",
      "                       'arguments about why what appears to be one type of '\n",
      "                       'income is actually something else. The agency has also '\n",
      "                       'trouble valuing their assets (a problem that',\n",
      "                       ' as The New York Times revealed',\n",
      "                       ' dates back at least to when Fred Trump was misleading '\n",
      "                       'the I.R.S. about how much his buildings were worth). '\n",
      "                       'By the public admission of numerous I.R.S. officials',\n",
      "                       ' it has long done a poor job of scrutinizing '\n",
      "                       'complicated partnerships to understand who owns what '\n",
      "                       'portion of what stock.']}\n"
     ]
    }
   ],
   "source": [
    "pprint(file_text)"
   ]
  },
  {
   "cell_type": "markdown",
   "metadata": {},
   "source": [
    "### Accessing a dictionary"
   ]
  },
  {
   "cell_type": "code",
   "execution_count": 687,
   "metadata": {
    "collapsed": false
   },
   "outputs": [
    {
     "name": "stdout",
     "output_type": "stream",
     "text": [
      "The keys in my dictionary are:\n",
      "\n",
      "['fifth_file_05.txt',\n",
      " 'first_file_01.txt',\n",
      " 'fourth_file_04.txt',\n",
      " 'second_file_02.txt',\n",
      " 'third_file_03.txt']\n"
     ]
    }
   ],
   "source": [
    "# keys\n",
    "keys = file_text.keys()\n",
    "print('The keys in my dictionary are:\\n')\n",
    "pprint(list(keys))"
   ]
  },
  {
   "cell_type": "code",
   "execution_count": 688,
   "metadata": {
    "collapsed": false
   },
   "outputs": [
    {
     "name": "stdout",
     "output_type": "stream",
     "text": [
      "The values in my dictionary are:\n",
      "\n",
      "[['With its budget slashed',\n",
      "  ' the I.R.S. has pulled back across the board — except for one area where '\n",
      "  'it’s been easier to keep the numbers from falling so much: audits of the '\n",
      "  'poor. More than one-third of all audit targets claim the earned-income tax '\n",
      "  'credit',\n",
      "  ' one of the nation’s largest anti-poverty programs. By the hundreds of '\n",
      "  'thousands',\n",
      "  ' I.R.S. computers spit out letters that require low-income taxpayers to '\n",
      "  'prove their eligibility. The counties with the highest audit rates aren’t '\n",
      "  'found in the hedge fund precincts of Connecticut or the lobbyist enclaves '\n",
      "  'of Northern Virginia. No',\n",
      "  ' they’re rural',\n",
      "  ' mostly African-American counties in the Deep South.'],\n",
      " ['Businesses and the wealthy benefit the most from this state of affairs. The '\n",
      "  'largest corporations in America used to be audited every year. That started '\n",
      "  'to change when the cuts began',\n",
      "  ' and today',\n",
      "  ' the audit rate has fallen by half. It’s a similar story for individuals '\n",
      "  'making $10 million or more a year: With twice the chance of escaping I.R.S. '\n",
      "  'scrutiny',\n",
      "  ' the ultrarich are much less likely to lose at the game of audit roulette.'],\n",
      " ['It’s much easier to enforce the tax laws for the bottom 90 percent of '\n",
      "  'earners. Wages are reported straight to the I.R.S.',\n",
      "  ' and computers can easily check that tax returns accurately report that '\n",
      "  'income. This means that inadequate enforcement of the tax laws necessarily '\n",
      "  'has a regressive effect',\n",
      "  ' liberating those at the top from scrutiny while the masses continue to be '\n",
      "  'tracked by machines.'],\n",
      " ['Fixing the problem will require more than increasing the I.R.S.’s budget '\n",
      "  '(though that would certainly help). It’s about having the right personnel '\n",
      "  'with the right skills. Today',\n",
      "  ' the wealthy and corporations have the I.R.S. outgunned. The ultra-affluent '\n",
      "  '— with the help of legions of tax professionals — make domestic income '\n",
      "  'disappear overseas or hide it in a pyramid of partnerships. It’s like '\n",
      "  'trying to take on a modern army while armed with spears and clubs.'],\n",
      " ['The I.R.S. has difficulty tracing the income of the superwealthy or '\n",
      "  'countering their sophisticated arguments about why what appears to be one '\n",
      "  'type of income is actually something else. The agency has also trouble '\n",
      "  'valuing their assets (a problem that',\n",
      "  ' as The New York Times revealed',\n",
      "  ' dates back at least to when Fred Trump was misleading the I.R.S. about how '\n",
      "  'much his buildings were worth). By the public admission of numerous I.R.S. '\n",
      "  'officials',\n",
      "  ' it has long done a poor job of scrutinizing complicated partnerships to '\n",
      "  'understand who owns what portion of what stock.']]\n"
     ]
    }
   ],
   "source": [
    "# values\n",
    "values = file_text.values()\n",
    "print('The values in my dictionary are:\\n')\n",
    "pprint(list(values))"
   ]
  },
  {
   "cell_type": "code",
   "execution_count": 689,
   "metadata": {
    "collapsed": false
   },
   "outputs": [
    {
     "name": "stdout",
     "output_type": "stream",
     "text": [
      "filename: fifth_file_05.txt\n",
      "['With its budget slashed',\n",
      " ' the I.R.S. has pulled back across the board — except for one area where '\n",
      " 'it’s been easier to keep the numbers from falling so much: audits of the '\n",
      " 'poor. More than one-third of all audit targets claim the earned-income tax '\n",
      " 'credit',\n",
      " ' one of the nation’s largest anti-poverty programs. By the hundreds of '\n",
      " 'thousands',\n",
      " ' I.R.S. computers spit out letters that require low-income taxpayers to '\n",
      " 'prove their eligibility. The counties with the highest audit rates aren’t '\n",
      " 'found in the hedge fund precincts of Connecticut or the lobbyist enclaves of '\n",
      " 'Northern Virginia. No',\n",
      " ' they’re rural',\n",
      " ' mostly African-American counties in the Deep South.']\n",
      "\n",
      "filename: first_file_01.txt\n",
      "['Businesses and the wealthy benefit the most from this state of affairs. The '\n",
      " 'largest corporations in America used to be audited every year. That started '\n",
      " 'to change when the cuts began',\n",
      " ' and today',\n",
      " ' the audit rate has fallen by half. It’s a similar story for individuals '\n",
      " 'making $10 million or more a year: With twice the chance of escaping I.R.S. '\n",
      " 'scrutiny',\n",
      " ' the ultrarich are much less likely to lose at the game of audit roulette.']\n",
      "\n",
      "filename: fourth_file_04.txt\n",
      "['It’s much easier to enforce the tax laws for the bottom 90 percent of '\n",
      " 'earners. Wages are reported straight to the I.R.S.',\n",
      " ' and computers can easily check that tax returns accurately report that '\n",
      " 'income. This means that inadequate enforcement of the tax laws necessarily '\n",
      " 'has a regressive effect',\n",
      " ' liberating those at the top from scrutiny while the masses continue to be '\n",
      " 'tracked by machines.']\n",
      "\n",
      "filename: second_file_02.txt\n",
      "['Fixing the problem will require more than increasing the I.R.S.’s budget '\n",
      " '(though that would certainly help). It’s about having the right personnel '\n",
      " 'with the right skills. Today',\n",
      " ' the wealthy and corporations have the I.R.S. outgunned. The ultra-affluent '\n",
      " '— with the help of legions of tax professionals — make domestic income '\n",
      " 'disappear overseas or hide it in a pyramid of partnerships. It’s like trying '\n",
      " 'to take on a modern army while armed with spears and clubs.']\n",
      "\n",
      "filename: third_file_03.txt\n",
      "['The I.R.S. has difficulty tracing the income of the superwealthy or '\n",
      " 'countering their sophisticated arguments about why what appears to be one '\n",
      " 'type of income is actually something else. The agency has also trouble '\n",
      " 'valuing their assets (a problem that',\n",
      " ' as The New York Times revealed',\n",
      " ' dates back at least to when Fred Trump was misleading the I.R.S. about how '\n",
      " 'much his buildings were worth). By the public admission of numerous I.R.S. '\n",
      " 'officials',\n",
      " ' it has long done a poor job of scrutinizing complicated partnerships to '\n",
      " 'understand who owns what portion of what stock.']\n",
      "\n"
     ]
    }
   ],
   "source": [
    "# print key/value pair\n",
    "for key, value in file_text.items():\n",
    "    print(f'filename: {key}')\n",
    "    pprint(value)\n",
    "    print()"
   ]
  },
  {
   "cell_type": "markdown",
   "metadata": {},
   "source": [
    "Let's create a vocabulary of our documents."
   ]
  },
  {
   "cell_type": "markdown",
   "metadata": {},
   "source": [
    "### Create a vocabulary of words in our document"
   ]
  },
  {
   "cell_type": "markdown",
   "metadata": {},
   "source": [
    "In this section, we will preprocess our documents. "
   ]
  },
  {
   "cell_type": "code",
   "execution_count": 690,
   "metadata": {
    "collapsed": false
   },
   "outputs": [],
   "source": [
    "# load our text\n",
    "corpus = [file for file in file_text.values()]"
   ]
  },
  {
   "cell_type": "code",
   "execution_count": 691,
   "metadata": {
    "collapsed": false
   },
   "outputs": [
    {
     "name": "stdout",
     "output_type": "stream",
     "text": [
      "[['With its budget slashed',\n",
      "  ' the I.R.S. has pulled back across the board — except for one area where '\n",
      "  'it’s been easier to keep the numbers from falling so much: audits of the '\n",
      "  'poor. More than one-third of all audit targets claim the earned-income tax '\n",
      "  'credit',\n",
      "  ' one of the nation’s largest anti-poverty programs. By the hundreds of '\n",
      "  'thousands',\n",
      "  ' I.R.S. computers spit out letters that require low-income taxpayers to '\n",
      "  'prove their eligibility. The counties with the highest audit rates aren’t '\n",
      "  'found in the hedge fund precincts of Connecticut or the lobbyist enclaves '\n",
      "  'of Northern Virginia. No',\n",
      "  ' they’re rural',\n",
      "  ' mostly African-American counties in the Deep South.'],\n",
      " ['Businesses and the wealthy benefit the most from this state of affairs. The '\n",
      "  'largest corporations in America used to be audited every year. That started '\n",
      "  'to change when the cuts began',\n",
      "  ' and today',\n",
      "  ' the audit rate has fallen by half. It’s a similar story for individuals '\n",
      "  'making $10 million or more a year: With twice the chance of escaping I.R.S. '\n",
      "  'scrutiny',\n",
      "  ' the ultrarich are much less likely to lose at the game of audit roulette.'],\n",
      " ['It’s much easier to enforce the tax laws for the bottom 90 percent of '\n",
      "  'earners. Wages are reported straight to the I.R.S.',\n",
      "  ' and computers can easily check that tax returns accurately report that '\n",
      "  'income. This means that inadequate enforcement of the tax laws necessarily '\n",
      "  'has a regressive effect',\n",
      "  ' liberating those at the top from scrutiny while the masses continue to be '\n",
      "  'tracked by machines.'],\n",
      " ['Fixing the problem will require more than increasing the I.R.S.’s budget '\n",
      "  '(though that would certainly help). It’s about having the right personnel '\n",
      "  'with the right skills. Today',\n",
      "  ' the wealthy and corporations have the I.R.S. outgunned. The ultra-affluent '\n",
      "  '— with the help of legions of tax professionals — make domestic income '\n",
      "  'disappear overseas or hide it in a pyramid of partnerships. It’s like '\n",
      "  'trying to take on a modern army while armed with spears and clubs.'],\n",
      " ['The I.R.S. has difficulty tracing the income of the superwealthy or '\n",
      "  'countering their sophisticated arguments about why what appears to be one '\n",
      "  'type of income is actually something else. The agency has also trouble '\n",
      "  'valuing their assets (a problem that',\n",
      "  ' as The New York Times revealed',\n",
      "  ' dates back at least to when Fred Trump was misleading the I.R.S. about how '\n",
      "  'much his buildings were worth). By the public admission of numerous I.R.S. '\n",
      "  'officials',\n",
      "  ' it has long done a poor job of scrutinizing complicated partnerships to '\n",
      "  'understand who owns what portion of what stock.']]\n"
     ]
    }
   ],
   "source": [
    "pprint(corpus)"
   ]
  },
  {
   "cell_type": "code",
   "execution_count": 692,
   "metadata": {
    "collapsed": false
   },
   "outputs": [],
   "source": [
    "# let's flatten our corpus\n",
    "flatten_corpus = [text for document in corpus for text in document]"
   ]
  },
  {
   "cell_type": "code",
   "execution_count": 693,
   "metadata": {
    "collapsed": false
   },
   "outputs": [
    {
     "name": "stdout",
     "output_type": "stream",
     "text": [
      "['With its budget slashed',\n",
      " ' the I.R.S. has pulled back across the board — except for one area where '\n",
      " 'it’s been easier to keep the numbers from falling so much: audits of the '\n",
      " 'poor. More than one-third of all audit targets claim the earned-income tax '\n",
      " 'credit',\n",
      " ' one of the nation’s largest anti-poverty programs. By the hundreds of '\n",
      " 'thousands',\n",
      " ' I.R.S. computers spit out letters that require low-income taxpayers to '\n",
      " 'prove their eligibility. The counties with the highest audit rates aren’t '\n",
      " 'found in the hedge fund precincts of Connecticut or the lobbyist enclaves of '\n",
      " 'Northern Virginia. No',\n",
      " ' they’re rural',\n",
      " ' mostly African-American counties in the Deep South.',\n",
      " 'Businesses and the wealthy benefit the most from this state of affairs. The '\n",
      " 'largest corporations in America used to be audited every year. That started '\n",
      " 'to change when the cuts began',\n",
      " ' and today',\n",
      " ' the audit rate has fallen by half. It’s a similar story for individuals '\n",
      " 'making $10 million or more a year: With twice the chance of escaping I.R.S. '\n",
      " 'scrutiny',\n",
      " ' the ultrarich are much less likely to lose at the game of audit roulette.',\n",
      " 'It’s much easier to enforce the tax laws for the bottom 90 percent of '\n",
      " 'earners. Wages are reported straight to the I.R.S.',\n",
      " ' and computers can easily check that tax returns accurately report that '\n",
      " 'income. This means that inadequate enforcement of the tax laws necessarily '\n",
      " 'has a regressive effect',\n",
      " ' liberating those at the top from scrutiny while the masses continue to be '\n",
      " 'tracked by machines.',\n",
      " 'Fixing the problem will require more than increasing the I.R.S.’s budget '\n",
      " '(though that would certainly help). It’s about having the right personnel '\n",
      " 'with the right skills. Today',\n",
      " ' the wealthy and corporations have the I.R.S. outgunned. The ultra-affluent '\n",
      " '— with the help of legions of tax professionals — make domestic income '\n",
      " 'disappear overseas or hide it in a pyramid of partnerships. It’s like trying '\n",
      " 'to take on a modern army while armed with spears and clubs.',\n",
      " 'The I.R.S. has difficulty tracing the income of the superwealthy or '\n",
      " 'countering their sophisticated arguments about why what appears to be one '\n",
      " 'type of income is actually something else. The agency has also trouble '\n",
      " 'valuing their assets (a problem that',\n",
      " ' as The New York Times revealed',\n",
      " ' dates back at least to when Fred Trump was misleading the I.R.S. about how '\n",
      " 'much his buildings were worth). By the public admission of numerous I.R.S. '\n",
      " 'officials',\n",
      " ' it has long done a poor job of scrutinizing complicated partnerships to '\n",
      " 'understand who owns what portion of what stock.']\n"
     ]
    }
   ],
   "source": [
    "pprint(flatten_corpus)"
   ]
  },
  {
   "cell_type": "markdown",
   "metadata": {},
   "source": [
    "Now that we have or corpus we can now preprocess it"
   ]
  },
  {
   "cell_type": "code",
   "execution_count": 694,
   "metadata": {
    "collapsed": true
   },
   "outputs": [],
   "source": [
    "# This print a list of punctuation\n",
    "punc = string.punctuation"
   ]
  },
  {
   "cell_type": "code",
   "execution_count": 695,
   "metadata": {
    "collapsed": false
   },
   "outputs": [
    {
     "data": {
      "text/plain": [
       "'!\"#$%&\\'()*+,-./:;<=>?@[\\\\]^_`{|}~'"
      ]
     },
     "execution_count": 695,
     "metadata": {},
     "output_type": "execute_result"
    }
   ],
   "source": [
    "punc"
   ]
  },
  {
   "cell_type": "code",
   "execution_count": 696,
   "metadata": {
    "collapsed": false
   },
   "outputs": [],
   "source": [
    "# remove punctuation\n",
    "flatten_corpus_without_punc = [s.translate(str.maketrans('', '', string.punctuation)) for s in flatten_corpus]"
   ]
  },
  {
   "cell_type": "code",
   "execution_count": 697,
   "metadata": {
    "collapsed": false
   },
   "outputs": [
    {
     "name": "stdout",
     "output_type": "stream",
     "text": [
      "['With its budget slashed',\n",
      " ' the IRS has pulled back across the board — except for one area where it’s '\n",
      " 'been easier to keep the numbers from falling so much audits of the poor More '\n",
      " 'than onethird of all audit targets claim the earnedincome tax credit',\n",
      " ' one of the nation’s largest antipoverty programs By the hundreds of '\n",
      " 'thousands',\n",
      " ' IRS computers spit out letters that require lowincome taxpayers to prove '\n",
      " 'their eligibility The counties with the highest audit rates aren’t found in '\n",
      " 'the hedge fund precincts of Connecticut or the lobbyist enclaves of Northern '\n",
      " 'Virginia No',\n",
      " ' they’re rural',\n",
      " ' mostly AfricanAmerican counties in the Deep South',\n",
      " 'Businesses and the wealthy benefit the most from this state of affairs The '\n",
      " 'largest corporations in America used to be audited every year That started '\n",
      " 'to change when the cuts began',\n",
      " ' and today',\n",
      " ' the audit rate has fallen by half It’s a similar story for individuals '\n",
      " 'making 10 million or more a year With twice the chance of escaping IRS '\n",
      " 'scrutiny',\n",
      " ' the ultrarich are much less likely to lose at the game of audit roulette',\n",
      " 'It’s much easier to enforce the tax laws for the bottom 90 percent of '\n",
      " 'earners Wages are reported straight to the IRS',\n",
      " ' and computers can easily check that tax returns accurately report that '\n",
      " 'income This means that inadequate enforcement of the tax laws necessarily '\n",
      " 'has a regressive effect',\n",
      " ' liberating those at the top from scrutiny while the masses continue to be '\n",
      " 'tracked by machines',\n",
      " 'Fixing the problem will require more than increasing the IRS’s budget though '\n",
      " 'that would certainly help It’s about having the right personnel with the '\n",
      " 'right skills Today',\n",
      " ' the wealthy and corporations have the IRS outgunned The ultraaffluent — '\n",
      " 'with the help of legions of tax professionals — make domestic income '\n",
      " 'disappear overseas or hide it in a pyramid of partnerships It’s like trying '\n",
      " 'to take on a modern army while armed with spears and clubs',\n",
      " 'The IRS has difficulty tracing the income of the superwealthy or countering '\n",
      " 'their sophisticated arguments about why what appears to be one type of '\n",
      " 'income is actually something else The agency has also trouble valuing their '\n",
      " 'assets a problem that',\n",
      " ' as The New York Times revealed',\n",
      " ' dates back at least to when Fred Trump was misleading the IRS about how '\n",
      " 'much his buildings were worth By the public admission of numerous IRS '\n",
      " 'officials',\n",
      " ' it has long done a poor job of scrutinizing complicated partnerships to '\n",
      " 'understand who owns what portion of what stock']\n"
     ]
    }
   ],
   "source": [
    "pprint(flatten_corpus_without_punc)"
   ]
  },
  {
   "cell_type": "code",
   "execution_count": 698,
   "metadata": {
    "collapsed": false
   },
   "outputs": [],
   "source": [
    "# split by whitespace\n",
    "flatten_corpus_without_whitespace = [elt.split() for elt in flatten_corpus_without_punc]"
   ]
  },
  {
   "cell_type": "code",
   "execution_count": 699,
   "metadata": {
    "collapsed": false
   },
   "outputs": [
    {
     "name": "stdout",
     "output_type": "stream",
     "text": [
      "[['With', 'its', 'budget', 'slashed'], ['the', 'IRS', 'has', 'pulled', 'back', 'across', 'the', 'board', '—', 'except', 'for', 'one', 'area', 'where', 'it’s', 'been', 'easier', 'to', 'keep', 'the', 'numbers', 'from', 'falling', 'so', 'much', 'audits', 'of', 'the', 'poor', 'More', 'than', 'onethird', 'of', 'all', 'audit', 'targets', 'claim', 'the', 'earnedincome', 'tax', 'credit'], ['one', 'of', 'the', 'nation’s', 'largest', 'antipoverty', 'programs', 'By', 'the', 'hundreds', 'of', 'thousands'], ['IRS', 'computers', 'spit', 'out', 'letters', 'that', 'require', 'lowincome', 'taxpayers', 'to', 'prove', 'their', 'eligibility', 'The', 'counties', 'with', 'the', 'highest', 'audit', 'rates', 'aren’t', 'found', 'in', 'the', 'hedge', 'fund', 'precincts', 'of', 'Connecticut', 'or', 'the', 'lobbyist', 'enclaves', 'of', 'Northern', 'Virginia', 'No'], ['they’re', 'rural'], ['mostly', 'AfricanAmerican', 'counties', 'in', 'the', 'Deep', 'South'], ['Businesses', 'and', 'the', 'wealthy', 'benefit', 'the', 'most', 'from', 'this', 'state', 'of', 'affairs', 'The', 'largest', 'corporations', 'in', 'America', 'used', 'to', 'be', 'audited', 'every', 'year', 'That', 'started', 'to', 'change', 'when', 'the', 'cuts', 'began'], ['and', 'today'], ['the', 'audit', 'rate', 'has', 'fallen', 'by', 'half', 'It’s', 'a', 'similar', 'story', 'for', 'individuals', 'making', '10', 'million', 'or', 'more', 'a', 'year', 'With', 'twice', 'the', 'chance', 'of', 'escaping', 'IRS', 'scrutiny'], ['the', 'ultrarich', 'are', 'much', 'less', 'likely', 'to', 'lose', 'at', 'the', 'game', 'of', 'audit', 'roulette'], ['It’s', 'much', 'easier', 'to', 'enforce', 'the', 'tax', 'laws', 'for', 'the', 'bottom', '90', 'percent', 'of', 'earners', 'Wages', 'are', 'reported', 'straight', 'to', 'the', 'IRS'], ['and', 'computers', 'can', 'easily', 'check', 'that', 'tax', 'returns', 'accurately', 'report', 'that', 'income', 'This', 'means', 'that', 'inadequate', 'enforcement', 'of', 'the', 'tax', 'laws', 'necessarily', 'has', 'a', 'regressive', 'effect'], ['liberating', 'those', 'at', 'the', 'top', 'from', 'scrutiny', 'while', 'the', 'masses', 'continue', 'to', 'be', 'tracked', 'by', 'machines'], ['Fixing', 'the', 'problem', 'will', 'require', 'more', 'than', 'increasing', 'the', 'IRS’s', 'budget', 'though', 'that', 'would', 'certainly', 'help', 'It’s', 'about', 'having', 'the', 'right', 'personnel', 'with', 'the', 'right', 'skills', 'Today'], ['the', 'wealthy', 'and', 'corporations', 'have', 'the', 'IRS', 'outgunned', 'The', 'ultraaffluent', '—', 'with', 'the', 'help', 'of', 'legions', 'of', 'tax', 'professionals', '—', 'make', 'domestic', 'income', 'disappear', 'overseas', 'or', 'hide', 'it', 'in', 'a', 'pyramid', 'of', 'partnerships', 'It’s', 'like', 'trying', 'to', 'take', 'on', 'a', 'modern', 'army', 'while', 'armed', 'with', 'spears', 'and', 'clubs'], ['The', 'IRS', 'has', 'difficulty', 'tracing', 'the', 'income', 'of', 'the', 'superwealthy', 'or', 'countering', 'their', 'sophisticated', 'arguments', 'about', 'why', 'what', 'appears', 'to', 'be', 'one', 'type', 'of', 'income', 'is', 'actually', 'something', 'else', 'The', 'agency', 'has', 'also', 'trouble', 'valuing', 'their', 'assets', 'a', 'problem', 'that'], ['as', 'The', 'New', 'York', 'Times', 'revealed'], ['dates', 'back', 'at', 'least', 'to', 'when', 'Fred', 'Trump', 'was', 'misleading', 'the', 'IRS', 'about', 'how', 'much', 'his', 'buildings', 'were', 'worth', 'By', 'the', 'public', 'admission', 'of', 'numerous', 'IRS', 'officials'], ['it', 'has', 'long', 'done', 'a', 'poor', 'job', 'of', 'scrutinizing', 'complicated', 'partnerships', 'to', 'understand', 'who', 'owns', 'what', 'portion', 'of', 'what', 'stock']]\n"
     ]
    }
   ],
   "source": [
    "print(flatten_corpus_without_whitespace)"
   ]
  },
  {
   "cell_type": "code",
   "execution_count": 700,
   "metadata": {
    "collapsed": true
   },
   "outputs": [],
   "source": [
    "# flatten the flatten_corpus_without_whitespace\n",
    "flatten_whitespace_corpus = [text for document in flatten_corpus_without_whitespace for text in document]"
   ]
  },
  {
   "cell_type": "code",
   "execution_count": 701,
   "metadata": {
    "collapsed": false
   },
   "outputs": [
    {
     "name": "stdout",
     "output_type": "stream",
     "text": [
      "['With', 'its', 'budget', 'slashed', 'the', 'IRS', 'has', 'pulled', 'back', 'across', 'the', 'board', '—', 'except', 'for', 'one', 'area', 'where', 'it’s', 'been', 'easier', 'to', 'keep', 'the', 'numbers', 'from', 'falling', 'so', 'much', 'audits', 'of', 'the', 'poor', 'More', 'than', 'onethird', 'of', 'all', 'audit', 'targets', 'claim', 'the', 'earnedincome', 'tax', 'credit', 'one', 'of', 'the', 'nation’s', 'largest', 'antipoverty', 'programs', 'By', 'the', 'hundreds', 'of', 'thousands', 'IRS', 'computers', 'spit', 'out', 'letters', 'that', 'require', 'lowincome', 'taxpayers', 'to', 'prove', 'their', 'eligibility', 'The', 'counties', 'with', 'the', 'highest', 'audit', 'rates', 'aren’t', 'found', 'in', 'the', 'hedge', 'fund', 'precincts', 'of', 'Connecticut', 'or', 'the', 'lobbyist', 'enclaves', 'of', 'Northern', 'Virginia', 'No', 'they’re', 'rural', 'mostly', 'AfricanAmerican', 'counties', 'in', 'the', 'Deep', 'South', 'Businesses', 'and', 'the', 'wealthy', 'benefit', 'the', 'most', 'from', 'this', 'state', 'of', 'affairs', 'The', 'largest', 'corporations', 'in', 'America', 'used', 'to', 'be', 'audited', 'every', 'year', 'That', 'started', 'to', 'change', 'when', 'the', 'cuts', 'began', 'and', 'today', 'the', 'audit', 'rate', 'has', 'fallen', 'by', 'half', 'It’s', 'a', 'similar', 'story', 'for', 'individuals', 'making', '10', 'million', 'or', 'more', 'a', 'year', 'With', 'twice', 'the', 'chance', 'of', 'escaping', 'IRS', 'scrutiny', 'the', 'ultrarich', 'are', 'much', 'less', 'likely', 'to', 'lose', 'at', 'the', 'game', 'of', 'audit', 'roulette', 'It’s', 'much', 'easier', 'to', 'enforce', 'the', 'tax', 'laws', 'for', 'the', 'bottom', '90', 'percent', 'of', 'earners', 'Wages', 'are', 'reported', 'straight', 'to', 'the', 'IRS', 'and', 'computers', 'can', 'easily', 'check', 'that', 'tax', 'returns', 'accurately', 'report', 'that', 'income', 'This', 'means', 'that', 'inadequate', 'enforcement', 'of', 'the', 'tax', 'laws', 'necessarily', 'has', 'a', 'regressive', 'effect', 'liberating', 'those', 'at', 'the', 'top', 'from', 'scrutiny', 'while', 'the', 'masses', 'continue', 'to', 'be', 'tracked', 'by', 'machines', 'Fixing', 'the', 'problem', 'will', 'require', 'more', 'than', 'increasing', 'the', 'IRS’s', 'budget', 'though', 'that', 'would', 'certainly', 'help', 'It’s', 'about', 'having', 'the', 'right', 'personnel', 'with', 'the', 'right', 'skills', 'Today', 'the', 'wealthy', 'and', 'corporations', 'have', 'the', 'IRS', 'outgunned', 'The', 'ultraaffluent', '—', 'with', 'the', 'help', 'of', 'legions', 'of', 'tax', 'professionals', '—', 'make', 'domestic', 'income', 'disappear', 'overseas', 'or', 'hide', 'it', 'in', 'a', 'pyramid', 'of', 'partnerships', 'It’s', 'like', 'trying', 'to', 'take', 'on', 'a', 'modern', 'army', 'while', 'armed', 'with', 'spears', 'and', 'clubs', 'The', 'IRS', 'has', 'difficulty', 'tracing', 'the', 'income', 'of', 'the', 'superwealthy', 'or', 'countering', 'their', 'sophisticated', 'arguments', 'about', 'why', 'what', 'appears', 'to', 'be', 'one', 'type', 'of', 'income', 'is', 'actually', 'something', 'else', 'The', 'agency', 'has', 'also', 'trouble', 'valuing', 'their', 'assets', 'a', 'problem', 'that', 'as', 'The', 'New', 'York', 'Times', 'revealed', 'dates', 'back', 'at', 'least', 'to', 'when', 'Fred', 'Trump', 'was', 'misleading', 'the', 'IRS', 'about', 'how', 'much', 'his', 'buildings', 'were', 'worth', 'By', 'the', 'public', 'admission', 'of', 'numerous', 'IRS', 'officials', 'it', 'has', 'long', 'done', 'a', 'poor', 'job', 'of', 'scrutinizing', 'complicated', 'partnerships', 'to', 'understand', 'who', 'owns', 'what', 'portion', 'of', 'what', 'stock']\n"
     ]
    }
   ],
   "source": [
    "print(flatten_whitespace_corpus)"
   ]
  },
  {
   "cell_type": "code",
   "execution_count": 702,
   "metadata": {
    "collapsed": true
   },
   "outputs": [],
   "source": [
    "# remove trailing white space and convert the text in lower case\n",
    "flatten_whitespace_corpus = [text.strip().lower() for text in flatten_whitespace_corpus]"
   ]
  },
  {
   "cell_type": "code",
   "execution_count": 703,
   "metadata": {
    "collapsed": false
   },
   "outputs": [
    {
     "name": "stdout",
     "output_type": "stream",
     "text": [
      "['with', 'its', 'budget', 'slashed', 'the', 'irs', 'has', 'pulled', 'back', 'across', 'the', 'board', '—', 'except', 'for', 'one', 'area', 'where', 'it’s', 'been', 'easier', 'to', 'keep', 'the', 'numbers', 'from', 'falling', 'so', 'much', 'audits', 'of', 'the', 'poor', 'more', 'than', 'onethird', 'of', 'all', 'audit', 'targets', 'claim', 'the', 'earnedincome', 'tax', 'credit', 'one', 'of', 'the', 'nation’s', 'largest', 'antipoverty', 'programs', 'by', 'the', 'hundreds', 'of', 'thousands', 'irs', 'computers', 'spit', 'out', 'letters', 'that', 'require', 'lowincome', 'taxpayers', 'to', 'prove', 'their', 'eligibility', 'the', 'counties', 'with', 'the', 'highest', 'audit', 'rates', 'aren’t', 'found', 'in', 'the', 'hedge', 'fund', 'precincts', 'of', 'connecticut', 'or', 'the', 'lobbyist', 'enclaves', 'of', 'northern', 'virginia', 'no', 'they’re', 'rural', 'mostly', 'africanamerican', 'counties', 'in', 'the', 'deep', 'south', 'businesses', 'and', 'the', 'wealthy', 'benefit', 'the', 'most', 'from', 'this', 'state', 'of', 'affairs', 'the', 'largest', 'corporations', 'in', 'america', 'used', 'to', 'be', 'audited', 'every', 'year', 'that', 'started', 'to', 'change', 'when', 'the', 'cuts', 'began', 'and', 'today', 'the', 'audit', 'rate', 'has', 'fallen', 'by', 'half', 'it’s', 'a', 'similar', 'story', 'for', 'individuals', 'making', '10', 'million', 'or', 'more', 'a', 'year', 'with', 'twice', 'the', 'chance', 'of', 'escaping', 'irs', 'scrutiny', 'the', 'ultrarich', 'are', 'much', 'less', 'likely', 'to', 'lose', 'at', 'the', 'game', 'of', 'audit', 'roulette', 'it’s', 'much', 'easier', 'to', 'enforce', 'the', 'tax', 'laws', 'for', 'the', 'bottom', '90', 'percent', 'of', 'earners', 'wages', 'are', 'reported', 'straight', 'to', 'the', 'irs', 'and', 'computers', 'can', 'easily', 'check', 'that', 'tax', 'returns', 'accurately', 'report', 'that', 'income', 'this', 'means', 'that', 'inadequate', 'enforcement', 'of', 'the', 'tax', 'laws', 'necessarily', 'has', 'a', 'regressive', 'effect', 'liberating', 'those', 'at', 'the', 'top', 'from', 'scrutiny', 'while', 'the', 'masses', 'continue', 'to', 'be', 'tracked', 'by', 'machines', 'fixing', 'the', 'problem', 'will', 'require', 'more', 'than', 'increasing', 'the', 'irs’s', 'budget', 'though', 'that', 'would', 'certainly', 'help', 'it’s', 'about', 'having', 'the', 'right', 'personnel', 'with', 'the', 'right', 'skills', 'today', 'the', 'wealthy', 'and', 'corporations', 'have', 'the', 'irs', 'outgunned', 'the', 'ultraaffluent', '—', 'with', 'the', 'help', 'of', 'legions', 'of', 'tax', 'professionals', '—', 'make', 'domestic', 'income', 'disappear', 'overseas', 'or', 'hide', 'it', 'in', 'a', 'pyramid', 'of', 'partnerships', 'it’s', 'like', 'trying', 'to', 'take', 'on', 'a', 'modern', 'army', 'while', 'armed', 'with', 'spears', 'and', 'clubs', 'the', 'irs', 'has', 'difficulty', 'tracing', 'the', 'income', 'of', 'the', 'superwealthy', 'or', 'countering', 'their', 'sophisticated', 'arguments', 'about', 'why', 'what', 'appears', 'to', 'be', 'one', 'type', 'of', 'income', 'is', 'actually', 'something', 'else', 'the', 'agency', 'has', 'also', 'trouble', 'valuing', 'their', 'assets', 'a', 'problem', 'that', 'as', 'the', 'new', 'york', 'times', 'revealed', 'dates', 'back', 'at', 'least', 'to', 'when', 'fred', 'trump', 'was', 'misleading', 'the', 'irs', 'about', 'how', 'much', 'his', 'buildings', 'were', 'worth', 'by', 'the', 'public', 'admission', 'of', 'numerous', 'irs', 'officials', 'it', 'has', 'long', 'done', 'a', 'poor', 'job', 'of', 'scrutinizing', 'complicated', 'partnerships', 'to', 'understand', 'who', 'owns', 'what', 'portion', 'of', 'what', 'stock']\n"
     ]
    }
   ],
   "source": [
    "print(flatten_whitespace_corpus)"
   ]
  },
  {
   "cell_type": "code",
   "execution_count": 704,
   "metadata": {
    "collapsed": false
   },
   "outputs": [],
   "source": [
    "vocabulary = sorted(list(set(flatten_whitespace_corpus)))"
   ]
  },
  {
   "cell_type": "code",
   "execution_count": 705,
   "metadata": {
    "collapsed": false
   },
   "outputs": [
    {
     "name": "stdout",
     "output_type": "stream",
     "text": [
      "['10', '90', 'a', 'about', 'accurately', 'across', 'actually', 'admission', 'affairs', 'africanamerican', 'agency', 'all', 'also', 'america', 'and', 'antipoverty', 'appears', 'are', 'area', 'aren’t', 'arguments', 'armed', 'army', 'as', 'assets', 'at', 'audit', 'audited', 'audits', 'back', 'be', 'been', 'began', 'benefit', 'board', 'bottom', 'budget', 'buildings', 'businesses', 'by', 'can', 'certainly', 'chance', 'change', 'check', 'claim', 'clubs', 'complicated', 'computers', 'connecticut', 'continue', 'corporations', 'countering', 'counties', 'credit', 'cuts', 'dates', 'deep', 'difficulty', 'disappear', 'domestic', 'done', 'earnedincome', 'earners', 'easier', 'easily', 'effect', 'eligibility', 'else', 'enclaves', 'enforce', 'enforcement', 'escaping', 'every', 'except', 'fallen', 'falling', 'fixing', 'for', 'found', 'fred', 'from', 'fund', 'game', 'half', 'has', 'have', 'having', 'hedge', 'help', 'hide', 'highest', 'his', 'how', 'hundreds', 'in', 'inadequate', 'income', 'increasing', 'individuals', 'irs', 'irs’s', 'is', 'it', 'its', 'it’s', 'job', 'keep', 'largest', 'laws', 'least', 'legions', 'less', 'letters', 'liberating', 'like', 'likely', 'lobbyist', 'long', 'lose', 'lowincome', 'machines', 'make', 'making', 'masses', 'means', 'million', 'misleading', 'modern', 'more', 'most', 'mostly', 'much', 'nation’s', 'necessarily', 'new', 'no', 'northern', 'numbers', 'numerous', 'of', 'officials', 'on', 'one', 'onethird', 'or', 'out', 'outgunned', 'overseas', 'owns', 'partnerships', 'percent', 'personnel', 'poor', 'portion', 'precincts', 'problem', 'professionals', 'programs', 'prove', 'public', 'pulled', 'pyramid', 'rate', 'rates', 'regressive', 'report', 'reported', 'require', 'returns', 'revealed', 'right', 'roulette', 'rural', 'scrutinizing', 'scrutiny', 'similar', 'skills', 'slashed', 'so', 'something', 'sophisticated', 'south', 'spears', 'spit', 'started', 'state', 'stock', 'story', 'straight', 'superwealthy', 'take', 'targets', 'tax', 'taxpayers', 'than', 'that', 'the', 'their', 'they’re', 'this', 'those', 'though', 'thousands', 'times', 'to', 'today', 'top', 'tracing', 'tracked', 'trouble', 'trump', 'trying', 'twice', 'type', 'ultraaffluent', 'ultrarich', 'understand', 'used', 'valuing', 'virginia', 'wages', 'was', 'wealthy', 'were', 'what', 'when', 'where', 'while', 'who', 'why', 'will', 'with', 'worth', 'would', 'year', 'york', '—']\n"
     ]
    }
   ],
   "source": [
    "print(vocabulary)"
   ]
  },
  {
   "cell_type": "markdown",
   "metadata": {},
   "source": [
    "Now that we have a vocabulary of our corpus, let's create dictionary using dictionaries comprehension"
   ]
  },
  {
   "cell_type": "code",
   "execution_count": 707,
   "metadata": {
    "collapsed": false
   },
   "outputs": [],
   "source": [
    "# utily function that summarise the steps we did earlier\n",
    "def preprocess_text(text):\n",
    "    \"\"\"This function take a string text, remove punctuations\n",
    "        strip all trailing whitespaces, and convert its characters to lower case.\n",
    "        Args: text (string)- to preprocess string\n",
    "        Return: \n",
    "            text (string): the preprocessed string      \n",
    "    \"\"\"\n",
    "    text = text.translate(str.maketrans('', '', string.punctuation))\n",
    "    text = text.strip()\n",
    "    text = text.split()\n",
    "    text = [s.strip().lower() for s in text]\n",
    "    return text\n",
    "    "
   ]
  },
  {
   "cell_type": "code",
   "execution_count": 708,
   "metadata": {
    "collapsed": true
   },
   "outputs": [],
   "source": [
    "def preprocess_file(filename):\n",
    "    \"\"\"This function take a filename and preprocess sentences within it.\n",
    "        Args:\n",
    "            filename (string): the file to preprocess\n",
    "        Return:\n",
    "            result (list): list of preprocessed sentences\n",
    "    \"\"\"\n",
    "    result = []\n",
    "    with open(os.path.join(FOLDER, filename), 'r') as f:\n",
    "        reader = csv.reader(f, delimiter=',')\n",
    "        for row in reader:\n",
    "            for elt in row:\n",
    "                text = preprocess_text(elt)\n",
    "                result = result + text\n",
    "            \n",
    "    return result      "
   ]
  },
  {
   "cell_type": "code",
   "execution_count": 710,
   "metadata": {
    "collapsed": true
   },
   "outputs": [],
   "source": [
    "# \n",
    "def preprocess_index(filename):\n",
    "    \"\"\"preprocess a file and return the index list representing the location\n",
    "        within the vocabulary of each word in the file.\n",
    "        Args: filename (string): file to preprocess\n",
    "        Return \n",
    "            A list of integer, representing the location of the words within our vocabulary\n",
    "    \"\"\"\n",
    "    return [vocabulary.index(elt) for elt in preprocess_file(filename)]"
   ]
  },
  {
   "cell_type": "code",
   "execution_count": 713,
   "metadata": {
    "collapsed": false
   },
   "outputs": [],
   "source": [
    "# here let's use dictionary comprehension\n",
    "# the goal here is to have the following dictionary\n",
    "#{ \n",
    "#  file1: [list of word in the file],\n",
    "#  file2: [list of word in the file],\n",
    "# file3: [list of word in the file]\n",
    "#}\n",
    "# file to vocabulary list\n",
    "file_to_voc = {filename: preprocess_file(filename) for filename in file_text}"
   ]
  },
  {
   "cell_type": "code",
   "execution_count": 714,
   "metadata": {
    "collapsed": false
   },
   "outputs": [
    {
     "name": "stdout",
     "output_type": "stream",
     "text": [
      "{'fifth_file_05.txt': ['with', 'its', 'budget', 'slashed', 'the', 'irs', 'has', 'pulled', 'back', 'across', 'the', 'board', '—', 'except', 'for', 'one', 'area', 'where', 'it’s', 'been', 'easier', 'to', 'keep', 'the', 'numbers', 'from', 'falling', 'so', 'much', 'audits', 'of', 'the', 'poor', 'more', 'than', 'onethird', 'of', 'all', 'audit', 'targets', 'claim', 'the', 'earnedincome', 'tax', 'credit', 'one', 'of', 'the', 'nation’s', 'largest', 'antipoverty', 'programs', 'by', 'the', 'hundreds', 'of', 'thousands', 'irs', 'computers', 'spit', 'out', 'letters', 'that', 'require', 'lowincome', 'taxpayers', 'to', 'prove', 'their', 'eligibility', 'the', 'counties', 'with', 'the', 'highest', 'audit', 'rates', 'aren’t', 'found', 'in', 'the', 'hedge', 'fund', 'precincts', 'of', 'connecticut', 'or', 'the', 'lobbyist', 'enclaves', 'of', 'northern', 'virginia', 'no', 'they’re', 'rural', 'mostly', 'africanamerican', 'counties', 'in', 'the', 'deep', 'south'], 'first_file_01.txt': ['businesses', 'and', 'the', 'wealthy', 'benefit', 'the', 'most', 'from', 'this', 'state', 'of', 'affairs', 'the', 'largest', 'corporations', 'in', 'america', 'used', 'to', 'be', 'audited', 'every', 'year', 'that', 'started', 'to', 'change', 'when', 'the', 'cuts', 'began', 'and', 'today', 'the', 'audit', 'rate', 'has', 'fallen', 'by', 'half', 'it’s', 'a', 'similar', 'story', 'for', 'individuals', 'making', '10', 'million', 'or', 'more', 'a', 'year', 'with', 'twice', 'the', 'chance', 'of', 'escaping', 'irs', 'scrutiny', 'the', 'ultrarich', 'are', 'much', 'less', 'likely', 'to', 'lose', 'at', 'the', 'game', 'of', 'audit', 'roulette'], 'fourth_file_04.txt': ['it’s', 'much', 'easier', 'to', 'enforce', 'the', 'tax', 'laws', 'for', 'the', 'bottom', '90', 'percent', 'of', 'earners', 'wages', 'are', 'reported', 'straight', 'to', 'the', 'irs', 'and', 'computers', 'can', 'easily', 'check', 'that', 'tax', 'returns', 'accurately', 'report', 'that', 'income', 'this', 'means', 'that', 'inadequate', 'enforcement', 'of', 'the', 'tax', 'laws', 'necessarily', 'has', 'a', 'regressive', 'effect', 'liberating', 'those', 'at', 'the', 'top', 'from', 'scrutiny', 'while', 'the', 'masses', 'continue', 'to', 'be', 'tracked', 'by', 'machines'], 'second_file_02.txt': ['fixing', 'the', 'problem', 'will', 'require', 'more', 'than', 'increasing', 'the', 'irs’s', 'budget', 'though', 'that', 'would', 'certainly', 'help', 'it’s', 'about', 'having', 'the', 'right', 'personnel', 'with', 'the', 'right', 'skills', 'today', 'the', 'wealthy', 'and', 'corporations', 'have', 'the', 'irs', 'outgunned', 'the', 'ultraaffluent', '—', 'with', 'the', 'help', 'of', 'legions', 'of', 'tax', 'professionals', '—', 'make', 'domestic', 'income', 'disappear', 'overseas', 'or', 'hide', 'it', 'in', 'a', 'pyramid', 'of', 'partnerships', 'it’s', 'like', 'trying', 'to', 'take', 'on', 'a', 'modern', 'army', 'while', 'armed', 'with', 'spears', 'and', 'clubs'], 'third_file_03.txt': ['the', 'irs', 'has', 'difficulty', 'tracing', 'the', 'income', 'of', 'the', 'superwealthy', 'or', 'countering', 'their', 'sophisticated', 'arguments', 'about', 'why', 'what', 'appears', 'to', 'be', 'one', 'type', 'of', 'income', 'is', 'actually', 'something', 'else', 'the', 'agency', 'has', 'also', 'trouble', 'valuing', 'their', 'assets', 'a', 'problem', 'that', 'as', 'the', 'new', 'york', 'times', 'revealed', 'dates', 'back', 'at', 'least', 'to', 'when', 'fred', 'trump', 'was', 'misleading', 'the', 'irs', 'about', 'how', 'much', 'his', 'buildings', 'were', 'worth', 'by', 'the', 'public', 'admission', 'of', 'numerous', 'irs', 'officials', 'it', 'has', 'long', 'done', 'a', 'poor', 'job', 'of', 'scrutinizing', 'complicated', 'partnerships', 'to', 'understand', 'who', 'owns', 'what', 'portion', 'of', 'what', 'stock']}\n"
     ]
    }
   ],
   "source": [
    "print(file_to_voc)"
   ]
  },
  {
   "cell_type": "code",
   "execution_count": 715,
   "metadata": {
    "collapsed": false
   },
   "outputs": [],
   "source": [
    "# the goal here is to have the following dictionary\n",
    "# the index is the position of the word in our vocabulary list\n",
    "#{ \n",
    "#  file1: [list of indexes]\n",
    "#  file2: [list of indexes]\n",
    "# file3: [list of word]\n",
    "#}\n",
    "# file to index list\n",
    "file_to_index = {filename: preprocess_index(filename) for filename in file_text}"
   ]
  },
  {
   "cell_type": "code",
   "execution_count": 716,
   "metadata": {
    "collapsed": false
   },
   "outputs": [
    {
     "name": "stdout",
     "output_type": "stream",
     "text": [
      "{'fifth_file_05.txt': [232, 104, 36, 178, 197, 100, 85, 161, 29, 5, 197, 34, 237, 74, 78, 143, 18, 227, 105, 31, 64, 205, 107, 197, 138, 81, 76, 179, 132, 28, 140, 197, 153, 129, 195, 144, 140, 11, 26, 192, 45, 197, 62, 193, 54, 143, 140, 197, 133, 108, 15, 158, 39, 197, 94, 140, 203, 100, 48, 184, 146, 113, 196, 168, 120, 194, 205, 159, 198, 67, 197, 53, 232, 197, 91, 26, 164, 19, 79, 95, 197, 88, 82, 155, 140, 49, 145, 197, 117, 69, 140, 137, 220, 136, 199, 173, 131, 9, 53, 95, 197, 57, 182], 'first_file_01.txt': [38, 14, 197, 223, 33, 197, 130, 81, 200, 186, 140, 8, 197, 108, 51, 95, 13, 218, 205, 30, 27, 73, 235, 196, 185, 205, 43, 226, 197, 55, 32, 14, 206, 197, 26, 163, 85, 75, 39, 84, 105, 2, 176, 188, 78, 99, 123, 0, 126, 145, 129, 2, 235, 232, 213, 197, 42, 140, 72, 100, 175, 197, 216, 17, 132, 112, 116, 205, 119, 25, 197, 83, 140, 26, 172], 'fourth_file_04.txt': [105, 132, 64, 205, 70, 197, 193, 109, 78, 197, 35, 1, 151, 140, 63, 221, 17, 167, 189, 205, 197, 100, 14, 48, 40, 65, 44, 196, 193, 169, 4, 166, 196, 97, 200, 125, 196, 96, 71, 140, 197, 193, 109, 134, 85, 2, 165, 66, 114, 201, 25, 197, 207, 81, 175, 228, 197, 124, 50, 205, 30, 209, 39, 121], 'second_file_02.txt': [77, 197, 156, 231, 168, 129, 195, 98, 197, 101, 36, 202, 196, 234, 41, 89, 105, 3, 87, 197, 171, 152, 232, 197, 171, 177, 206, 197, 223, 14, 51, 86, 197, 100, 147, 197, 215, 237, 232, 197, 89, 140, 111, 140, 193, 157, 237, 122, 60, 97, 59, 148, 145, 90, 103, 95, 2, 162, 140, 150, 105, 115, 212, 205, 191, 142, 2, 128, 22, 228, 21, 232, 183, 14, 46], 'third_file_03.txt': [197, 100, 85, 58, 208, 197, 97, 140, 197, 190, 145, 52, 198, 181, 20, 3, 230, 225, 16, 205, 30, 143, 214, 140, 97, 102, 6, 180, 68, 197, 10, 85, 12, 210, 219, 198, 24, 2, 156, 196, 23, 197, 135, 236, 204, 170, 56, 29, 25, 110, 205, 226, 80, 211, 222, 127, 197, 100, 3, 93, 132, 92, 37, 224, 233, 39, 197, 160, 7, 140, 139, 100, 141, 103, 85, 118, 61, 2, 153, 106, 140, 174, 47, 150, 205, 217, 229, 149, 225, 154, 140, 225, 187]}\n"
     ]
    }
   ],
   "source": [
    "print(file_to_index)"
   ]
  },
  {
   "cell_type": "markdown",
   "metadata": {},
   "source": [
    "One quick note about dictionary in python, it throws an error when you try to access a key that does not exit"
   ]
  },
  {
   "cell_type": "code",
   "execution_count": 717,
   "metadata": {
    "collapsed": false
   },
   "outputs": [
    {
     "ename": "KeyError",
     "evalue": "'one'",
     "output_type": "error",
     "traceback": [
      "\u001b[0;31m---------------------------------------------------------------------------\u001b[0m",
      "\u001b[0;31mKeyError\u001b[0m                                  Traceback (most recent call last)",
      "\u001b[0;32m<ipython-input-717-faa917b3221d>\u001b[0m in \u001b[0;36m<module>\u001b[0;34m()\u001b[0m\n\u001b[1;32m      1\u001b[0m \u001b[0md\u001b[0m \u001b[0;34m=\u001b[0m \u001b[0;34m{\u001b[0m\u001b[0;34m}\u001b[0m\u001b[0;34m\u001b[0m\u001b[0m\n\u001b[0;32m----> 2\u001b[0;31m \u001b[0mprint\u001b[0m\u001b[0;34m(\u001b[0m\u001b[0md\u001b[0m\u001b[0;34m[\u001b[0m\u001b[0;34m'one'\u001b[0m\u001b[0;34m]\u001b[0m\u001b[0;34m)\u001b[0m\u001b[0;34m\u001b[0m\u001b[0m\n\u001b[0m",
      "\u001b[0;31mKeyError\u001b[0m: 'one'"
     ]
    }
   ],
   "source": [
    "d = {}\n",
    "print(d['one'])"
   ]
  },
  {
   "cell_type": "markdown",
   "metadata": {},
   "source": [
    "default dict is more safe"
   ]
  },
  {
   "cell_type": "code",
   "execution_count": 719,
   "metadata": {
    "collapsed": false
   },
   "outputs": [
    {
     "name": "stdout",
     "output_type": "stream",
     "text": [
      "defaultdict(<class 'int'>, {})\n",
      "default dict int: 0\n",
      "defaultdict(<class 'float'>, {})\n",
      "default dict float: 0.0\n",
      "defaultdict(<class 'list'>, {})\n",
      "default dict list: []\n",
      "defaultdict(<function <lambda> at 0x12ddac268>, {'one': 'hello world'})\n",
      "default dict custom: hello world\n"
     ]
    }
   ],
   "source": [
    "from collections import defaultdict\n",
    "df_int = defaultdict(int) # here we create a dictionary of values int, it will default to zero\n",
    "print(df_int)\n",
    "print(f'default dict int: {df_int[\"one\"]}')\n",
    "df_float = defaultdict(float)\n",
    "print(df_float)\n",
    "print(f'default dict float: {df_float[\"one\"]}')\n",
    "df_list = defaultdict(list)\n",
    "print(df_list)\n",
    "print(f'default dict list: {df_list[\"one\"]}')\n",
    "print(df_custom)\n",
    "df_custom = defaultdict(lambda: 'hello world')\n",
    "print(f'default dict custom: {df_custom[\"one\"]}')"
   ]
  },
  {
   "cell_type": "markdown",
   "metadata": {},
   "source": [
    "We will also use a library counter from the collections module"
   ]
  },
  {
   "cell_type": "code",
   "execution_count": 720,
   "metadata": {
    "collapsed": false
   },
   "outputs": [
    {
     "name": "stdout",
     "output_type": "stream",
     "text": [
      "My colors:  ['red', 'red', 'red', 'green', 'green', 'red', 'blue', 'blue', 'green', 'yellow', 'yellow']\n",
      "The most common color:  [('red', 4)]\n",
      "The two most common color: [('red', 4), ('green', 3)]\n",
      "Color in my list  ['red', 'green', 'blue', 'yellow']\n",
      "Count of colors in my list [4, 3, 2, 2]\n",
      "Color in my list ['red', 'green', 'blue', 'yellow']\n",
      "Item in my counter [('red', 4), ('green', 3), ('blue', 2), ('yellow', 2)]\n"
     ]
    }
   ],
   "source": [
    "from collections import Counter\n",
    "\n",
    "# Counter is used for counting\n",
    "list_color = 'red red red green green red blue blue green yellow yellow'.split()\n",
    "print('My colors: ', list_color)\n",
    "c = Counter(list_color)\n",
    "print('The most common color: ', c.most_common(1))\n",
    "print('The two most common color:', c.most_common(2))\n",
    "print('Color in my list ',list(c))\n",
    "print('Count of colors in my list', list(c.values()))\n",
    "print('Color in my list', list(c.keys()))\n",
    "print('Item in my counter', list(c.items()))"
   ]
  },
  {
   "cell_type": "code",
   "execution_count": 721,
   "metadata": {
    "collapsed": false
   },
   "outputs": [],
   "source": [
    "# the goal here is to have the following dictionary\n",
    "# {\n",
    "#  word1: [(filename, count_in_filename), (filename, count_in_filename),..],\n",
    "# word2: [(filename, count_in_filename), (filename, count_in_filename),..],\n",
    "# ...\n",
    "#}\n",
    "dic = defaultdict(list)\n",
    "for word in vocabulary:\n",
    "    for filename in files:\n",
    "        # the the word in filename\n",
    "        # count the number of time a word appear in file\n",
    "        c = Counter(file_to_voc[filename])\n",
    "        c = dict(c)\n",
    "        # this try/catch block handle the case where the dictionary 'c' doesn't have \n",
    "        # the word in our vocabulary\n",
    "        try:\n",
    "        # append th\n",
    "            dic[word].append((filename, c[word]))\n",
    "        except:\n",
    "            pass\n",
    "        \n",
    "        "
   ]
  },
  {
   "cell_type": "code",
   "execution_count": 722,
   "metadata": {
    "collapsed": false
   },
   "outputs": [
    {
     "name": "stdout",
     "output_type": "stream",
     "text": [
      "defaultdict(<class 'list'>, {'10': [('first_file_01.txt', 1)], '90': [('fourth_file_04.txt', 1)], 'a': [('first_file_01.txt', 2), ('fourth_file_04.txt', 1), ('second_file_02.txt', 2), ('third_file_03.txt', 2)], 'about': [('second_file_02.txt', 1), ('third_file_03.txt', 2)], 'accurately': [('fourth_file_04.txt', 1)], 'across': [('fifth_file_05.txt', 1)], 'actually': [('third_file_03.txt', 1)], 'admission': [('third_file_03.txt', 1)], 'affairs': [('first_file_01.txt', 1)], 'africanamerican': [('fifth_file_05.txt', 1)], 'agency': [('third_file_03.txt', 1)], 'all': [('fifth_file_05.txt', 1)], 'also': [('third_file_03.txt', 1)], 'america': [('first_file_01.txt', 1)], 'and': [('first_file_01.txt', 2), ('fourth_file_04.txt', 1), ('second_file_02.txt', 2)], 'antipoverty': [('fifth_file_05.txt', 1)], 'appears': [('third_file_03.txt', 1)], 'are': [('first_file_01.txt', 1), ('fourth_file_04.txt', 1)], 'area': [('fifth_file_05.txt', 1)], 'aren’t': [('fifth_file_05.txt', 1)], 'arguments': [('third_file_03.txt', 1)], 'armed': [('second_file_02.txt', 1)], 'army': [('second_file_02.txt', 1)], 'as': [('third_file_03.txt', 1)], 'assets': [('third_file_03.txt', 1)], 'at': [('first_file_01.txt', 1), ('fourth_file_04.txt', 1), ('third_file_03.txt', 1)], 'audit': [('fifth_file_05.txt', 2), ('first_file_01.txt', 2)], 'audited': [('first_file_01.txt', 1)], 'audits': [('fifth_file_05.txt', 1)], 'back': [('fifth_file_05.txt', 1), ('third_file_03.txt', 1)], 'be': [('first_file_01.txt', 1), ('fourth_file_04.txt', 1), ('third_file_03.txt', 1)], 'been': [('fifth_file_05.txt', 1)], 'began': [('first_file_01.txt', 1)], 'benefit': [('first_file_01.txt', 1)], 'board': [('fifth_file_05.txt', 1)], 'bottom': [('fourth_file_04.txt', 1)], 'budget': [('fifth_file_05.txt', 1), ('second_file_02.txt', 1)], 'buildings': [('third_file_03.txt', 1)], 'businesses': [('first_file_01.txt', 1)], 'by': [('fifth_file_05.txt', 1), ('first_file_01.txt', 1), ('fourth_file_04.txt', 1), ('third_file_03.txt', 1)], 'can': [('fourth_file_04.txt', 1)], 'certainly': [('second_file_02.txt', 1)], 'chance': [('first_file_01.txt', 1)], 'change': [('first_file_01.txt', 1)], 'check': [('fourth_file_04.txt', 1)], 'claim': [('fifth_file_05.txt', 1)], 'clubs': [('second_file_02.txt', 1)], 'complicated': [('third_file_03.txt', 1)], 'computers': [('fifth_file_05.txt', 1), ('fourth_file_04.txt', 1)], 'connecticut': [('fifth_file_05.txt', 1)], 'continue': [('fourth_file_04.txt', 1)], 'corporations': [('first_file_01.txt', 1), ('second_file_02.txt', 1)], 'countering': [('third_file_03.txt', 1)], 'counties': [('fifth_file_05.txt', 2)], 'credit': [('fifth_file_05.txt', 1)], 'cuts': [('first_file_01.txt', 1)], 'dates': [('third_file_03.txt', 1)], 'deep': [('fifth_file_05.txt', 1)], 'difficulty': [('third_file_03.txt', 1)], 'disappear': [('second_file_02.txt', 1)], 'domestic': [('second_file_02.txt', 1)], 'done': [('third_file_03.txt', 1)], 'earnedincome': [('fifth_file_05.txt', 1)], 'earners': [('fourth_file_04.txt', 1)], 'easier': [('fifth_file_05.txt', 1), ('fourth_file_04.txt', 1)], 'easily': [('fourth_file_04.txt', 1)], 'effect': [('fourth_file_04.txt', 1)], 'eligibility': [('fifth_file_05.txt', 1)], 'else': [('third_file_03.txt', 1)], 'enclaves': [('fifth_file_05.txt', 1)], 'enforce': [('fourth_file_04.txt', 1)], 'enforcement': [('fourth_file_04.txt', 1)], 'escaping': [('first_file_01.txt', 1)], 'every': [('first_file_01.txt', 1)], 'except': [('fifth_file_05.txt', 1)], 'fallen': [('first_file_01.txt', 1)], 'falling': [('fifth_file_05.txt', 1)], 'fixing': [('second_file_02.txt', 1)], 'for': [('fifth_file_05.txt', 1), ('first_file_01.txt', 1), ('fourth_file_04.txt', 1)], 'found': [('fifth_file_05.txt', 1)], 'fred': [('third_file_03.txt', 1)], 'from': [('fifth_file_05.txt', 1), ('first_file_01.txt', 1), ('fourth_file_04.txt', 1)], 'fund': [('fifth_file_05.txt', 1)], 'game': [('first_file_01.txt', 1)], 'half': [('first_file_01.txt', 1)], 'has': [('fifth_file_05.txt', 1), ('first_file_01.txt', 1), ('fourth_file_04.txt', 1), ('third_file_03.txt', 3)], 'have': [('second_file_02.txt', 1)], 'having': [('second_file_02.txt', 1)], 'hedge': [('fifth_file_05.txt', 1)], 'help': [('second_file_02.txt', 2)], 'hide': [('second_file_02.txt', 1)], 'highest': [('fifth_file_05.txt', 1)], 'his': [('third_file_03.txt', 1)], 'how': [('third_file_03.txt', 1)], 'hundreds': [('fifth_file_05.txt', 1)], 'in': [('fifth_file_05.txt', 2), ('first_file_01.txt', 1), ('second_file_02.txt', 1)], 'inadequate': [('fourth_file_04.txt', 1)], 'income': [('fourth_file_04.txt', 1), ('second_file_02.txt', 1), ('third_file_03.txt', 2)], 'increasing': [('second_file_02.txt', 1)], 'individuals': [('first_file_01.txt', 1)], 'irs': [('fifth_file_05.txt', 2), ('first_file_01.txt', 1), ('fourth_file_04.txt', 1), ('second_file_02.txt', 1), ('third_file_03.txt', 3)], 'irs’s': [('second_file_02.txt', 1)], 'is': [('third_file_03.txt', 1)], 'it': [('second_file_02.txt', 1), ('third_file_03.txt', 1)], 'its': [('fifth_file_05.txt', 1)], 'it’s': [('fifth_file_05.txt', 1), ('first_file_01.txt', 1), ('fourth_file_04.txt', 1), ('second_file_02.txt', 2)], 'job': [('third_file_03.txt', 1)], 'keep': [('fifth_file_05.txt', 1)], 'largest': [('fifth_file_05.txt', 1), ('first_file_01.txt', 1)], 'laws': [('fourth_file_04.txt', 2)], 'least': [('third_file_03.txt', 1)], 'legions': [('second_file_02.txt', 1)], 'less': [('first_file_01.txt', 1)], 'letters': [('fifth_file_05.txt', 1)], 'liberating': [('fourth_file_04.txt', 1)], 'like': [('second_file_02.txt', 1)], 'likely': [('first_file_01.txt', 1)], 'lobbyist': [('fifth_file_05.txt', 1)], 'long': [('third_file_03.txt', 1)], 'lose': [('first_file_01.txt', 1)], 'lowincome': [('fifth_file_05.txt', 1)], 'machines': [('fourth_file_04.txt', 1)], 'make': [('second_file_02.txt', 1)], 'making': [('first_file_01.txt', 1)], 'masses': [('fourth_file_04.txt', 1)], 'means': [('fourth_file_04.txt', 1)], 'million': [('first_file_01.txt', 1)], 'misleading': [('third_file_03.txt', 1)], 'modern': [('second_file_02.txt', 1)], 'more': [('fifth_file_05.txt', 1), ('first_file_01.txt', 1), ('second_file_02.txt', 1)], 'most': [('first_file_01.txt', 1)], 'mostly': [('fifth_file_05.txt', 1)], 'much': [('fifth_file_05.txt', 1), ('first_file_01.txt', 1), ('fourth_file_04.txt', 1), ('third_file_03.txt', 1)], 'nation’s': [('fifth_file_05.txt', 1)], 'necessarily': [('fourth_file_04.txt', 1)], 'new': [('third_file_03.txt', 1)], 'no': [('fifth_file_05.txt', 1)], 'northern': [('fifth_file_05.txt', 1)], 'numbers': [('fifth_file_05.txt', 1)], 'numerous': [('third_file_03.txt', 1)], 'of': [('fifth_file_05.txt', 6), ('first_file_01.txt', 3), ('fourth_file_04.txt', 2), ('second_file_02.txt', 3), ('third_file_03.txt', 5)], 'officials': [('third_file_03.txt', 1)], 'on': [('second_file_02.txt', 1)], 'one': [('fifth_file_05.txt', 2), ('third_file_03.txt', 1)], 'onethird': [('fifth_file_05.txt', 1)], 'or': [('fifth_file_05.txt', 1), ('first_file_01.txt', 1), ('second_file_02.txt', 1), ('third_file_03.txt', 1)], 'out': [('fifth_file_05.txt', 1)], 'outgunned': [('second_file_02.txt', 1)], 'overseas': [('second_file_02.txt', 1)], 'owns': [('third_file_03.txt', 1)], 'partnerships': [('second_file_02.txt', 1), ('third_file_03.txt', 1)], 'percent': [('fourth_file_04.txt', 1)], 'personnel': [('second_file_02.txt', 1)], 'poor': [('fifth_file_05.txt', 1), ('third_file_03.txt', 1)], 'portion': [('third_file_03.txt', 1)], 'precincts': [('fifth_file_05.txt', 1)], 'problem': [('second_file_02.txt', 1), ('third_file_03.txt', 1)], 'professionals': [('second_file_02.txt', 1)], 'programs': [('fifth_file_05.txt', 1)], 'prove': [('fifth_file_05.txt', 1)], 'public': [('third_file_03.txt', 1)], 'pulled': [('fifth_file_05.txt', 1)], 'pyramid': [('second_file_02.txt', 1)], 'rate': [('first_file_01.txt', 1)], 'rates': [('fifth_file_05.txt', 1)], 'regressive': [('fourth_file_04.txt', 1)], 'report': [('fourth_file_04.txt', 1)], 'reported': [('fourth_file_04.txt', 1)], 'require': [('fifth_file_05.txt', 1), ('second_file_02.txt', 1)], 'returns': [('fourth_file_04.txt', 1)], 'revealed': [('third_file_03.txt', 1)], 'right': [('second_file_02.txt', 2)], 'roulette': [('first_file_01.txt', 1)], 'rural': [('fifth_file_05.txt', 1)], 'scrutinizing': [('third_file_03.txt', 1)], 'scrutiny': [('first_file_01.txt', 1), ('fourth_file_04.txt', 1)], 'similar': [('first_file_01.txt', 1)], 'skills': [('second_file_02.txt', 1)], 'slashed': [('fifth_file_05.txt', 1)], 'so': [('fifth_file_05.txt', 1)], 'something': [('third_file_03.txt', 1)], 'sophisticated': [('third_file_03.txt', 1)], 'south': [('fifth_file_05.txt', 1)], 'spears': [('second_file_02.txt', 1)], 'spit': [('fifth_file_05.txt', 1)], 'started': [('first_file_01.txt', 1)], 'state': [('first_file_01.txt', 1)], 'stock': [('third_file_03.txt', 1)], 'story': [('first_file_01.txt', 1)], 'straight': [('fourth_file_04.txt', 1)], 'superwealthy': [('third_file_03.txt', 1)], 'take': [('second_file_02.txt', 1)], 'targets': [('fifth_file_05.txt', 1)], 'tax': [('fifth_file_05.txt', 1), ('fourth_file_04.txt', 3), ('second_file_02.txt', 1)], 'taxpayers': [('fifth_file_05.txt', 1)], 'than': [('fifth_file_05.txt', 1), ('second_file_02.txt', 1)], 'that': [('fifth_file_05.txt', 1), ('first_file_01.txt', 1), ('fourth_file_04.txt', 3), ('second_file_02.txt', 1), ('third_file_03.txt', 1)], 'the': [('fifth_file_05.txt', 12), ('first_file_01.txt', 8), ('fourth_file_04.txt', 6), ('second_file_02.txt', 8), ('third_file_03.txt', 7)], 'their': [('fifth_file_05.txt', 1), ('third_file_03.txt', 2)], 'they’re': [('fifth_file_05.txt', 1)], 'this': [('first_file_01.txt', 1), ('fourth_file_04.txt', 1)], 'those': [('fourth_file_04.txt', 1)], 'though': [('second_file_02.txt', 1)], 'thousands': [('fifth_file_05.txt', 1)], 'times': [('third_file_03.txt', 1)], 'to': [('fifth_file_05.txt', 2), ('first_file_01.txt', 3), ('fourth_file_04.txt', 3), ('second_file_02.txt', 1), ('third_file_03.txt', 3)], 'today': [('first_file_01.txt', 1), ('second_file_02.txt', 1)], 'top': [('fourth_file_04.txt', 1)], 'tracing': [('third_file_03.txt', 1)], 'tracked': [('fourth_file_04.txt', 1)], 'trouble': [('third_file_03.txt', 1)], 'trump': [('third_file_03.txt', 1)], 'trying': [('second_file_02.txt', 1)], 'twice': [('first_file_01.txt', 1)], 'type': [('third_file_03.txt', 1)], 'ultraaffluent': [('second_file_02.txt', 1)], 'ultrarich': [('first_file_01.txt', 1)], 'understand': [('third_file_03.txt', 1)], 'used': [('first_file_01.txt', 1)], 'valuing': [('third_file_03.txt', 1)], 'virginia': [('fifth_file_05.txt', 1)], 'wages': [('fourth_file_04.txt', 1)], 'was': [('third_file_03.txt', 1)], 'wealthy': [('first_file_01.txt', 1), ('second_file_02.txt', 1)], 'were': [('third_file_03.txt', 1)], 'what': [('third_file_03.txt', 3)], 'when': [('first_file_01.txt', 1), ('third_file_03.txt', 1)], 'where': [('fifth_file_05.txt', 1)], 'while': [('fourth_file_04.txt', 1), ('second_file_02.txt', 1)], 'who': [('third_file_03.txt', 1)], 'why': [('third_file_03.txt', 1)], 'will': [('second_file_02.txt', 1)], 'with': [('fifth_file_05.txt', 2), ('first_file_01.txt', 1), ('second_file_02.txt', 3)], 'worth': [('third_file_03.txt', 1)], 'would': [('second_file_02.txt', 1)], 'year': [('first_file_01.txt', 2)], 'york': [('third_file_03.txt', 1)], '—': [('fifth_file_05.txt', 1), ('second_file_02.txt', 2)]})\n"
     ]
    }
   ],
   "source": [
    "print(dic)"
   ]
  },
  {
   "cell_type": "code",
   "execution_count": 723,
   "metadata": {
    "collapsed": false
   },
   "outputs": [],
   "source": [
    "# the goal here is to have the following dictionary\n",
    "# {\n",
    "#  word1: [count_in_file1, count_in_file2, count_in_file3, count_in_file4, count_in_file5],\n",
    "#  word2: [count_in_file1, count_in_file2, count_in_file3, count_in_file4, count_in_file5],\n",
    "# ...\n",
    "#}\n",
    "init_dic = {word: [0, 0, 0, 0, 0] for word in vocabulary}\n",
    "for key in vocabulary:\n",
    "    for elt in word_to_count_in_file[key]:\n",
    "        root, ext = os.path.splitext(elt[0])\n",
    "        root = root.split('_')\n",
    "        root = [elt.lower().strip() for elt in root]\n",
    "        root = [int(elt) - 1 for elt in root if not elt.isalpha()][0]\n",
    "        init_dic[key][root] = elt[1] "
   ]
  },
  {
   "cell_type": "code",
   "execution_count": 724,
   "metadata": {
    "collapsed": false
   },
   "outputs": [
    {
     "name": "stdout",
     "output_type": "stream",
     "text": [
      "{'10': [1, 0, 0, 0, 0], '90': [0, 0, 0, 1, 0], 'a': [2, 2, 2, 1, 0], 'about': [0, 1, 2, 0, 0], 'accurately': [0, 0, 0, 1, 0], 'across': [0, 0, 0, 0, 1], 'actually': [0, 0, 1, 0, 0], 'admission': [0, 0, 1, 0, 0], 'affairs': [1, 0, 0, 0, 0], 'africanamerican': [0, 0, 0, 0, 1], 'agency': [0, 0, 1, 0, 0], 'all': [0, 0, 0, 0, 1], 'also': [0, 0, 1, 0, 0], 'america': [1, 0, 0, 0, 0], 'and': [2, 2, 0, 1, 0], 'antipoverty': [0, 0, 0, 0, 1], 'appears': [0, 0, 1, 0, 0], 'are': [1, 0, 0, 1, 0], 'area': [0, 0, 0, 0, 1], 'aren’t': [0, 0, 0, 0, 1], 'arguments': [0, 0, 1, 0, 0], 'armed': [0, 1, 0, 0, 0], 'army': [0, 1, 0, 0, 0], 'as': [0, 0, 1, 0, 0], 'assets': [0, 0, 1, 0, 0], 'at': [1, 0, 1, 1, 0], 'audit': [2, 0, 0, 0, 2], 'audited': [1, 0, 0, 0, 0], 'audits': [0, 0, 0, 0, 1], 'back': [0, 0, 1, 0, 1], 'be': [1, 0, 1, 1, 0], 'been': [0, 0, 0, 0, 1], 'began': [1, 0, 0, 0, 0], 'benefit': [1, 0, 0, 0, 0], 'board': [0, 0, 0, 0, 1], 'bottom': [0, 0, 0, 1, 0], 'budget': [0, 1, 0, 0, 1], 'buildings': [0, 0, 1, 0, 0], 'businesses': [1, 0, 0, 0, 0], 'by': [1, 0, 1, 1, 1], 'can': [0, 0, 0, 1, 0], 'certainly': [0, 1, 0, 0, 0], 'chance': [1, 0, 0, 0, 0], 'change': [1, 0, 0, 0, 0], 'check': [0, 0, 0, 1, 0], 'claim': [0, 0, 0, 0, 1], 'clubs': [0, 1, 0, 0, 0], 'complicated': [0, 0, 1, 0, 0], 'computers': [0, 0, 0, 1, 1], 'connecticut': [0, 0, 0, 0, 1], 'continue': [0, 0, 0, 1, 0], 'corporations': [1, 1, 0, 0, 0], 'countering': [0, 0, 1, 0, 0], 'counties': [0, 0, 0, 0, 2], 'credit': [0, 0, 0, 0, 1], 'cuts': [1, 0, 0, 0, 0], 'dates': [0, 0, 1, 0, 0], 'deep': [0, 0, 0, 0, 1], 'difficulty': [0, 0, 1, 0, 0], 'disappear': [0, 1, 0, 0, 0], 'domestic': [0, 1, 0, 0, 0], 'done': [0, 0, 1, 0, 0], 'earnedincome': [0, 0, 0, 0, 1], 'earners': [0, 0, 0, 1, 0], 'easier': [0, 0, 0, 1, 1], 'easily': [0, 0, 0, 1, 0], 'effect': [0, 0, 0, 1, 0], 'eligibility': [0, 0, 0, 0, 1], 'else': [0, 0, 1, 0, 0], 'enclaves': [0, 0, 0, 0, 1], 'enforce': [0, 0, 0, 1, 0], 'enforcement': [0, 0, 0, 1, 0], 'escaping': [1, 0, 0, 0, 0], 'every': [1, 0, 0, 0, 0], 'except': [0, 0, 0, 0, 1], 'fallen': [1, 0, 0, 0, 0], 'falling': [0, 0, 0, 0, 1], 'fixing': [0, 1, 0, 0, 0], 'for': [1, 0, 0, 1, 1], 'found': [0, 0, 0, 0, 1], 'fred': [0, 0, 1, 0, 0], 'from': [1, 0, 0, 1, 1], 'fund': [0, 0, 0, 0, 1], 'game': [1, 0, 0, 0, 0], 'half': [1, 0, 0, 0, 0], 'has': [1, 0, 3, 1, 1], 'have': [0, 1, 0, 0, 0], 'having': [0, 1, 0, 0, 0], 'hedge': [0, 0, 0, 0, 1], 'help': [0, 2, 0, 0, 0], 'hide': [0, 1, 0, 0, 0], 'highest': [0, 0, 0, 0, 1], 'his': [0, 0, 1, 0, 0], 'how': [0, 0, 1, 0, 0], 'hundreds': [0, 0, 0, 0, 1], 'in': [1, 1, 0, 0, 2], 'inadequate': [0, 0, 0, 1, 0], 'income': [0, 1, 2, 1, 0], 'increasing': [0, 1, 0, 0, 0], 'individuals': [1, 0, 0, 0, 0], 'irs': [1, 1, 3, 1, 2], 'irs’s': [0, 1, 0, 0, 0], 'is': [0, 0, 1, 0, 0], 'it': [0, 1, 1, 0, 0], 'its': [0, 0, 0, 0, 1], 'it’s': [1, 2, 0, 1, 1], 'job': [0, 0, 1, 0, 0], 'keep': [0, 0, 0, 0, 1], 'largest': [1, 0, 0, 0, 1], 'laws': [0, 0, 0, 2, 0], 'least': [0, 0, 1, 0, 0], 'legions': [0, 1, 0, 0, 0], 'less': [1, 0, 0, 0, 0], 'letters': [0, 0, 0, 0, 1], 'liberating': [0, 0, 0, 1, 0], 'like': [0, 1, 0, 0, 0], 'likely': [1, 0, 0, 0, 0], 'lobbyist': [0, 0, 0, 0, 1], 'long': [0, 0, 1, 0, 0], 'lose': [1, 0, 0, 0, 0], 'lowincome': [0, 0, 0, 0, 1], 'machines': [0, 0, 0, 1, 0], 'make': [0, 1, 0, 0, 0], 'making': [1, 0, 0, 0, 0], 'masses': [0, 0, 0, 1, 0], 'means': [0, 0, 0, 1, 0], 'million': [1, 0, 0, 0, 0], 'misleading': [0, 0, 1, 0, 0], 'modern': [0, 1, 0, 0, 0], 'more': [1, 1, 0, 0, 1], 'most': [1, 0, 0, 0, 0], 'mostly': [0, 0, 0, 0, 1], 'much': [1, 0, 1, 1, 1], 'nation’s': [0, 0, 0, 0, 1], 'necessarily': [0, 0, 0, 1, 0], 'new': [0, 0, 1, 0, 0], 'no': [0, 0, 0, 0, 1], 'northern': [0, 0, 0, 0, 1], 'numbers': [0, 0, 0, 0, 1], 'numerous': [0, 0, 1, 0, 0], 'of': [3, 3, 5, 2, 6], 'officials': [0, 0, 1, 0, 0], 'on': [0, 1, 0, 0, 0], 'one': [0, 0, 1, 0, 2], 'onethird': [0, 0, 0, 0, 1], 'or': [1, 1, 1, 0, 1], 'out': [0, 0, 0, 0, 1], 'outgunned': [0, 1, 0, 0, 0], 'overseas': [0, 1, 0, 0, 0], 'owns': [0, 0, 1, 0, 0], 'partnerships': [0, 1, 1, 0, 0], 'percent': [0, 0, 0, 1, 0], 'personnel': [0, 1, 0, 0, 0], 'poor': [0, 0, 1, 0, 1], 'portion': [0, 0, 1, 0, 0], 'precincts': [0, 0, 0, 0, 1], 'problem': [0, 1, 1, 0, 0], 'professionals': [0, 1, 0, 0, 0], 'programs': [0, 0, 0, 0, 1], 'prove': [0, 0, 0, 0, 1], 'public': [0, 0, 1, 0, 0], 'pulled': [0, 0, 0, 0, 1], 'pyramid': [0, 1, 0, 0, 0], 'rate': [1, 0, 0, 0, 0], 'rates': [0, 0, 0, 0, 1], 'regressive': [0, 0, 0, 1, 0], 'report': [0, 0, 0, 1, 0], 'reported': [0, 0, 0, 1, 0], 'require': [0, 1, 0, 0, 1], 'returns': [0, 0, 0, 1, 0], 'revealed': [0, 0, 1, 0, 0], 'right': [0, 2, 0, 0, 0], 'roulette': [1, 0, 0, 0, 0], 'rural': [0, 0, 0, 0, 1], 'scrutinizing': [0, 0, 1, 0, 0], 'scrutiny': [1, 0, 0, 1, 0], 'similar': [1, 0, 0, 0, 0], 'skills': [0, 1, 0, 0, 0], 'slashed': [0, 0, 0, 0, 1], 'so': [0, 0, 0, 0, 1], 'something': [0, 0, 1, 0, 0], 'sophisticated': [0, 0, 1, 0, 0], 'south': [0, 0, 0, 0, 1], 'spears': [0, 1, 0, 0, 0], 'spit': [0, 0, 0, 0, 1], 'started': [1, 0, 0, 0, 0], 'state': [1, 0, 0, 0, 0], 'stock': [0, 0, 1, 0, 0], 'story': [1, 0, 0, 0, 0], 'straight': [0, 0, 0, 1, 0], 'superwealthy': [0, 0, 1, 0, 0], 'take': [0, 1, 0, 0, 0], 'targets': [0, 0, 0, 0, 1], 'tax': [0, 1, 0, 3, 1], 'taxpayers': [0, 0, 0, 0, 1], 'than': [0, 1, 0, 0, 1], 'that': [1, 1, 1, 3, 1], 'the': [8, 8, 7, 6, 12], 'their': [0, 0, 2, 0, 1], 'they’re': [0, 0, 0, 0, 1], 'this': [1, 0, 0, 1, 0], 'those': [0, 0, 0, 1, 0], 'though': [0, 1, 0, 0, 0], 'thousands': [0, 0, 0, 0, 1], 'times': [0, 0, 1, 0, 0], 'to': [3, 1, 3, 3, 2], 'today': [1, 1, 0, 0, 0], 'top': [0, 0, 0, 1, 0], 'tracing': [0, 0, 1, 0, 0], 'tracked': [0, 0, 0, 1, 0], 'trouble': [0, 0, 1, 0, 0], 'trump': [0, 0, 1, 0, 0], 'trying': [0, 1, 0, 0, 0], 'twice': [1, 0, 0, 0, 0], 'type': [0, 0, 1, 0, 0], 'ultraaffluent': [0, 1, 0, 0, 0], 'ultrarich': [1, 0, 0, 0, 0], 'understand': [0, 0, 1, 0, 0], 'used': [1, 0, 0, 0, 0], 'valuing': [0, 0, 1, 0, 0], 'virginia': [0, 0, 0, 0, 1], 'wages': [0, 0, 0, 1, 0], 'was': [0, 0, 1, 0, 0], 'wealthy': [1, 1, 0, 0, 0], 'were': [0, 0, 1, 0, 0], 'what': [0, 0, 3, 0, 0], 'when': [1, 0, 1, 0, 0], 'where': [0, 0, 0, 0, 1], 'while': [0, 1, 0, 1, 0], 'who': [0, 0, 1, 0, 0], 'why': [0, 0, 1, 0, 0], 'will': [0, 1, 0, 0, 0], 'with': [1, 3, 0, 0, 2], 'worth': [0, 0, 1, 0, 0], 'would': [0, 1, 0, 0, 0], 'year': [2, 0, 0, 0, 0], 'york': [0, 0, 1, 0, 0], '—': [0, 2, 0, 0, 1]}\n"
     ]
    }
   ],
   "source": [
    "print(init_dic)"
   ]
  },
  {
   "cell_type": "code",
   "execution_count": 726,
   "metadata": {
    "collapsed": true
   },
   "outputs": [],
   "source": [
    "# our search tool\n",
    "def search_tool(text):\n",
    "    \n",
    "    result = {}\n",
    "    text = preprocess_text(text)\n",
    "    text = list(set(text))\n",
    "    for elt in text:\n",
    "        try:\n",
    "            result[elt] = init_dic[elt]\n",
    "        except:\n",
    "            result[elt] = [0, 0, 0, 0, 0]\n",
    "    return result"
   ]
  },
  {
   "cell_type": "code",
   "execution_count": 727,
   "metadata": {
    "collapsed": false
   },
   "outputs": [],
   "source": [
    "results = search_tool('why are you leaving us')"
   ]
  },
  {
   "cell_type": "code",
   "execution_count": 728,
   "metadata": {
    "collapsed": false
   },
   "outputs": [
    {
     "data": {
      "text/plain": [
       "{'are': [1, 0, 0, 1, 0],\n",
       " 'leaving': [0, 0, 0, 0, 0],\n",
       " 'us': [0, 0, 0, 0, 0],\n",
       " 'why': [0, 0, 1, 0, 0],\n",
       " 'you': [0, 0, 0, 0, 0]}"
      ]
     },
     "execution_count": 728,
     "metadata": {},
     "output_type": "execute_result"
    }
   ],
   "source": [
    "results"
   ]
  },
  {
   "cell_type": "markdown",
   "metadata": {},
   "source": [
    "### Printing statistics and OOP\n"
   ]
  },
  {
   "cell_type": "markdown",
   "metadata": {},
   "source": [
    "In this section we will play a little bit object oriented programming"
   ]
  },
  {
   "cell_type": "markdown",
   "metadata": {},
   "source": [
    "#### Creating an abstract class"
   ]
  },
  {
   "cell_type": "markdown",
   "metadata": {},
   "source": [
    "An Abstract class is a class that cannot be instantiated, here we will create an abstract class, and review inheritance. here our TableFormatter is a superclass, and we have different way to output our statistics. In the console, and in the csv file. You can extend it by adding for instance html formatter."
   ]
  },
  {
   "cell_type": "code",
   "execution_count": 729,
   "metadata": {
    "collapsed": false
   },
   "outputs": [],
   "source": [
    "from abc import ABC, abstractmethod\n",
    "\n",
    "#Here is our \n",
    "class TableFormatter(ABC):\n",
    "    \"\"\"Our table formatter\"\"\"\n",
    "    def __init__(self, outfile=None):\n",
    "        if outfile == None:\n",
    "            self.outfile = sys.stdout\n",
    "        else:\n",
    "            self.outfile = open(outfile, 'w')\n",
    "        \n",
    "    @abstractmethod\n",
    "    def headings(self, headers):\n",
    "        \"\"\"abstract method this we will implement it in the subclasses\n",
    "            it write the heading inside our file\n",
    "        \"\"\"\n",
    "        pass\n",
    "    \n",
    "    @abstractmethod\n",
    "    def row(self, rowdata):\n",
    "        \"\"\"abstract method, this we will implement it in the subclasses.\n",
    "            It write the data inside our file\n",
    "        \"\"\"\n",
    "        pass\n",
    "    \n",
    "    def close(self):\n",
    "        \"\"\"This method just close our file\n",
    "        \"\"\"\n",
    "        if self.outfile:\n",
    "            self.outfile.close()\n",
    "            self.outfile = None"
   ]
  },
  {
   "cell_type": "code",
   "execution_count": 730,
   "metadata": {
    "collapsed": true
   },
   "outputs": [],
   "source": [
    "# our print table formatter\n",
    "# this just print the data to the console\n",
    "class PrintTableFormatter(TableFormatter):\n",
    "    \"\"\"A print table formatter\"\"\"\n",
    "    def __init__(self, outfile=None, width=10):\n",
    "        super().__init__(outfile)\n",
    "        self.width = width\n",
    "        \n",
    "    def headings(self, headers):\n",
    "        \"\"\"Format the header, and write it on the console\n",
    "        Args: headers: a list of string \n",
    "        Return: None\n",
    "        \"\"\"\n",
    "        for header in headers:\n",
    "            print(f'{header:>{self.width}}', end=' ', file=self.outfile)\n",
    "        print(file=self.outfile)\n",
    "        \n",
    "    def row(self, rowdata):\n",
    "        \"\"\"Format the rowdata and write it on the console\n",
    "        Args: rowdata: a list of data\n",
    "        \"\"\"\n",
    "        for item in rowdata:\n",
    "            print(f'{item:>{self.width}}', end=' ', file=self.outfile)\n",
    "        print(file=self.outfile)"
   ]
  },
  {
   "cell_type": "code",
   "execution_count": 731,
   "metadata": {
    "collapsed": true
   },
   "outputs": [],
   "source": [
    "class CSVTableFormatter(TableFormatter):\n",
    "    \"\"\"A csv formatter\n",
    "    \"\"\"\n",
    "    def headings(self, headers):\n",
    "        \"\"\"format the header in csv and write it in the file\n",
    "            Args: headers: list of string\n",
    "            Returns: None\n",
    "        \"\"\"\n",
    "        print(','.join(headers), file=self.outfile)\n",
    "    \n",
    "    def row(self, rowdata):\n",
    "        \"\"\"Format the row in csv and write it in the file\n",
    "        Args: rowdata: list of data\n",
    "        Return: None\n",
    "        \"\"\"\n",
    "        rowdata = [str(elt) for elt in rowdata]\n",
    "        print(','.join(rowdata), file=self.outfile)\n"
   ]
  },
  {
   "cell_type": "code",
   "execution_count": 732,
   "metadata": {
    "collapsed": true
   },
   "outputs": [],
   "source": [
    "# print table\n",
    "def print_table(objects, colnames, formatter):\n",
    "    '''Print the element in object using the formatter\n",
    "    :param objects: The object to print: dictionary of lists of elements\n",
    "    :param colnames: The column names: list of strings\n",
    "    :return: None\n",
    "    '''\n",
    "    if not isinstance(formatter, TableFormatter):\n",
    "        raise TypeError('Expected a Table Formatter')\n",
    "    \n",
    "    # Emit header\n",
    "    formatter.headings(colnames)\n",
    "    \n",
    "    # Emit row\n",
    "    for elt in objects:\n",
    "        rowdata = [elt]+ objects[elt]\n",
    "        formatter.row(rowdata)       \n",
    "        "
   ]
  },
  {
   "cell_type": "code",
   "execution_count": 733,
   "metadata": {
    "collapsed": false
   },
   "outputs": [
    {
     "name": "stdout",
     "output_type": "stream",
     "text": [
      "      word     file 1     file 2     file 3     file 4     file 5 \n",
      "        is          0          0          1          0          0 \n",
      "       bad          0          0          0          0          0 \n",
      "       the          8          8          7          6         12 \n",
      "       irs          1          1          3          1          2 \n",
      "      guys          0          0          0          0          0 \n",
      "  auditing          0          0          0          0          0 \n",
      "\n",
      "{'auditing': [0, 0, 0, 0, 0],\n",
      " 'bad': [0, 0, 0, 0, 0],\n",
      " 'guys': [0, 0, 0, 0, 0],\n",
      " 'irs': [1, 1, 3, 1, 2],\n",
      " 'is': [0, 0, 1, 0, 0],\n",
      " 'the': [8, 8, 7, 6, 12]}\n"
     ]
    }
   ],
   "source": [
    "# let text it, we will output the simple count of word inside the our file\n",
    "colnames = ['word', 'file 1', 'file 2', 'file 3', 'file 4', 'file 5']\n",
    "csv_formatter = CSVTableFormatter('hello.csv')\n",
    "print_formatter = PrintTableFormatter()\n",
    "input_string = 'the irs is auditing the bad guys.'\n",
    "output = search_tool(input_string)\n",
    "print_table(output, colnames, csv_formatter)\n",
    "print_table(output, colnames, print_formatter)\n",
    "print()\n",
    "pprint(output)\n",
    "csv_formatter.close()"
   ]
  },
  {
   "cell_type": "markdown",
   "metadata": {},
   "source": [
    "below is the screenshot of our csv file created"
   ]
  },
  {
   "cell_type": "markdown",
   "metadata": {},
   "source": [
    "<img src='helo.png'/>"
   ]
  },
  {
   "cell_type": "markdown",
   "metadata": {},
   "source": [
    "You can extend this by adding additional files to make you vocabulary more richier, printing additional statistics"
   ]
  },
  {
   "cell_type": "markdown",
   "metadata": {
    "collapsed": true
   },
   "source": [
    "## Part 2: Project 1: Steps and tips"
   ]
  },
  {
   "cell_type": "markdown",
   "metadata": {},
   "source": [
    "After playing a little bit with python let's work on the project. This project will be easy if you rewrote and understood all the python code in the class, and the mini project we just did."
   ]
  },
  {
   "cell_type": "markdown",
   "metadata": {},
   "source": [
    "### Step 1:"
   ]
  },
  {
   "cell_type": "markdown",
   "metadata": {},
   "source": [
    "Read carefully these sections inside the 'Project' module\n",
    "    - Section 2(project description) \n",
    "    - Section 3 (project instruction)\n",
    "    - Section 4 (workspace how to)"
   ]
  },
  {
   "cell_type": "markdown",
   "metadata": {},
   "source": [
    "### Step 2: Time code"
   ]
  },
  {
   "cell_type": "markdown",
   "metadata": {},
   "source": [
    "Read carefully <b>section 5</b> and implement <b>#TODO 0</b>. You can use the method 'convert_time' we implemented earlier or implement your own."
   ]
  },
  {
   "cell_type": "markdown",
   "metadata": {},
   "source": [
    "### Step 3: Command Line Argument\n",
    "Read carefully <b>section 7</b> and implement <b>#TODO 1</b> inside <b>'get_input_args.py'</b>.\n",
    "If you get stuck read the file <b>'get_input_args_hints.py'</b>"
   ]
  },
  {
   "cell_type": "markdown",
   "metadata": {},
   "source": [
    "### Step 4: Creating Pet Image Labels\n",
    "Read carefully <b>section 10</b> and implement <b>#TODO 2</b> inside <b>get_pet_labels.py</b> and <b>check_images.py</b>. If you get stuck, read <b>'get_pet_labels_hints.py'</b>. You can also be a little bit creative here and try to use a dictionary comprehension."
   ]
  },
  {
   "cell_type": "markdown",
   "metadata": {},
   "source": [
    "### Step 5: Classifying Images\n",
    "Read carefully <b>section 12</b> and implement <b>#TODO 3</b> inside <b>classify_images.py</b> and <b>check_images.py</b>. If you get stuck, read <b>'classify_images_hints.py'</b>. You can also be a little bit creative here and try to use a list comprehension."
   ]
  },
  {
   "cell_type": "markdown",
   "metadata": {},
   "source": [
    "### Step 6: Classifying Labels as Dogs\n",
    "Read carefully <b>section 14</b> and implement <b>#TODO 4</b> inside <b>check_images.py</b> and <b>adjust_results4_isadog.py</b>. If you get stuck, try to read <b>'adjust_results4_isadog_hints.py'</b>. You can also be a little bit creative here and try to use a list comprehension."
   ]
  },
  {
   "cell_type": "markdown",
   "metadata": {},
   "source": [
    "### Step 7: Calculating Results\n",
    "Read carefully <b>section 16</b> and implement <b>#TODO 5</b> inside <b>check_images.py</b> and <b>calculates_results_stats.py</b>. If you get stuck, try to read the file <b>'adjust_results4_isadog_hints.py'</b>. You can also be a little bit creative here and try to use a list comprehension."
   ]
  },
  {
   "cell_type": "markdown",
   "metadata": {},
   "source": [
    "### Step 8: Printing The Results\n",
    "Read carefully <b>section 18</b> and implement <b>#TODO 6</b> inside <b>check_images.py</b> and <b>print_results.py</b>. If you get stuck, read <b>'print_results_hints.py'</b>. You can also be a little bit creative here and try to use a list comprehension. "
   ]
  },
  {
   "cell_type": "markdown",
   "metadata": {},
   "source": [
    "### Step 9: Classify Uploaded Images\n",
    "Read carefully <b>section 20</b> in the class and follow the instructions provided."
   ]
  },
  {
   "cell_type": "markdown",
   "metadata": {},
   "source": [
    "### Step 10: Results\n",
    "Read carefully <b>section 22</b> in the class and follow the instructions provided."
   ]
  },
  {
   "cell_type": "markdown",
   "metadata": {},
   "source": [
    "### Step 11: Submit your project\n",
    "Submit your project"
   ]
  },
  {
   "cell_type": "markdown",
   "metadata": {},
   "source": [
    "## YAY!!!! CONGRATULATIONS!!! YOU MADE IT"
   ]
  },
  {
   "cell_type": "markdown",
   "metadata": {},
   "source": [
    "Good job, you successfully completed your first project. You can call yourself an expert in python now. You successfully classified images using cutting-edge computer vision model architectures (ResNet, AlexNet, VGG). You also built a mini search engine.\n",
    "Your excitement has just begun, next time we will cover Numpy, Pandas, and Matplotlib. We will use them to do some linear algebra, statistics, data manipulations, and beautiful visualizations.\n",
    "Take a little break, do your favorite thing (maybe kiss or hug your partner/wife/husband)... See Y'all Next Friday :). It's an honor to be at your service."
   ]
  },
  {
   "cell_type": "code",
   "execution_count": null,
   "metadata": {
    "collapsed": true
   },
   "outputs": [],
   "source": []
  }
 ],
 "metadata": {
  "anaconda-cloud": {},
  "kernelspec": {
   "display_name": "Python [conda env:tensorflow]",
   "language": "python",
   "name": "conda-env-tensorflow-py"
  },
  "language_info": {
   "codemirror_mode": {
    "name": "ipython",
    "version": 3
   },
   "file_extension": ".py",
   "mimetype": "text/x-python",
   "name": "python",
   "nbconvert_exporter": "python",
   "pygments_lexer": "ipython3",
   "version": "3.6.2"
  }
 },
 "nbformat": 4,
 "nbformat_minor": 1
}
